{
  "nbformat": 4,
  "nbformat_minor": 0,
  "metadata": {
    "colab": {
      "name": "Vine_analysis.ipynb",
      "provenance": [],
      "collapsed_sections": []
    },
    "kernelspec": {
      "name": "python3",
      "display_name": "Python 3"
    },
    "language_info": {
      "name": "python"
    }
  },
  "cells": [
    {
      "cell_type": "code",
      "metadata": {
        "colab": {
          "base_uri": "https://localhost:8080/"
        },
        "id": "ltUDb6XxU6LX",
        "outputId": "eb34defd-93df-4417-9136-d8c0b33e8ec8"
      },
      "source": [
        "import os\n",
        "# Find the latest version of spark 3.0  from http://www-us.apache.org/dist/spark/ and enter as the spark version\n",
        "# For example:\n",
        "# spark_version = 'spark-3.0.2'\n",
        "spark_version = 'spark-3.1.1'\n",
        "os.environ['SPARK_VERSION']=spark_version\n",
        "\n",
        "# Install Spark and Java\n",
        "!apt-get update\n",
        "!apt-get install openjdk-11-jdk-headless -qq > /dev/null\n",
        "!wget -q http://www-us.apache.org/dist/spark/$SPARK_VERSION/$SPARK_VERSION-bin-hadoop2.7.tgz\n",
        "!wget -q https://jdbc.postgresql.org/download/postgresql-42.2.19.jar\n",
        "!tar xf $SPARK_VERSION-bin-hadoop2.7.tgz\n",
        "!pip install -q findspark\n",
        "\n",
        "# Set Environment Variables\n",
        "os.environ[\"JAVA_HOME\"] = \"/usr/lib/jvm/java-11-openjdk-amd64\"\n",
        "os.environ[\"SPARK_HOME\"] = f\"/content/{spark_version}-bin-hadoop2.7\"\n",
        "os.environ[\"SPARK_CLASSPATH\"] = f\"/content/postgresql-42.2.19.jar\"\n",
        "\n",
        "# Start a SparkSession\n",
        "import findspark\n",
        "findspark.init()"
      ],
      "execution_count": null,
      "outputs": [
        {
          "output_type": "stream",
          "text": [
            "\r0% [Working]\r            \rGet:1 https://cloud.r-project.org/bin/linux/ubuntu bionic-cran40/ InRelease [3,626 B]\n",
            "Get:2 http://security.ubuntu.com/ubuntu bionic-security InRelease [88.7 kB]\n",
            "Ign:3 https://developer.download.nvidia.com/compute/cuda/repos/ubuntu1804/x86_64  InRelease\n",
            "Hit:4 http://archive.ubuntu.com/ubuntu bionic InRelease\n",
            "Get:5 http://ppa.launchpad.net/c2d4u.team/c2d4u4.0+/ubuntu bionic InRelease [15.9 kB]\n",
            "Ign:6 https://developer.download.nvidia.com/compute/machine-learning/repos/ubuntu1804/x86_64  InRelease\n",
            "Hit:7 https://developer.download.nvidia.com/compute/cuda/repos/ubuntu1804/x86_64  Release\n",
            "Hit:8 https://developer.download.nvidia.com/compute/machine-learning/repos/ubuntu1804/x86_64  Release\n",
            "Get:9 http://archive.ubuntu.com/ubuntu bionic-updates InRelease [88.7 kB]\n",
            "Hit:10 http://ppa.launchpad.net/cran/libgit2/ubuntu bionic InRelease\n",
            "Get:11 http://archive.ubuntu.com/ubuntu bionic-backports InRelease [74.6 kB]\n",
            "Get:12 http://ppa.launchpad.net/deadsnakes/ppa/ubuntu bionic InRelease [15.9 kB]\n",
            "Hit:13 http://ppa.launchpad.net/graphics-drivers/ppa/ubuntu bionic InRelease\n",
            "Get:14 http://security.ubuntu.com/ubuntu bionic-security/main amd64 Packages [2,077 kB]\n",
            "Get:15 http://security.ubuntu.com/ubuntu bionic-security/restricted amd64 Packages [372 kB]\n",
            "Get:16 http://security.ubuntu.com/ubuntu bionic-security/universe amd64 Packages [1,404 kB]\n",
            "Get:19 http://ppa.launchpad.net/c2d4u.team/c2d4u4.0+/ubuntu bionic/main Sources [1,751 kB]\n",
            "Get:20 http://archive.ubuntu.com/ubuntu bionic-updates/main amd64 Packages [2,508 kB]\n",
            "Get:21 http://ppa.launchpad.net/c2d4u.team/c2d4u4.0+/ubuntu bionic/main amd64 Packages [896 kB]\n",
            "Get:22 http://archive.ubuntu.com/ubuntu bionic-updates/universe amd64 Packages [2,175 kB]\n",
            "Get:23 http://archive.ubuntu.com/ubuntu bionic-updates/restricted amd64 Packages [402 kB]\n",
            "Get:24 http://ppa.launchpad.net/deadsnakes/ppa/ubuntu bionic/main amd64 Packages [39.5 kB]\n",
            "Fetched 11.9 MB in 4s (3,271 kB/s)\n",
            "Reading package lists... Done\n"
          ],
          "name": "stdout"
        }
      ]
    },
    {
      "cell_type": "code",
      "metadata": {
        "id": "GINLiSxaU9JI"
      },
      "source": [
        "# Start Spark session\n",
        "from pyspark.sql import SparkSession\n",
        "spark = SparkSession.builder.config(\"spark.executor.memory\", \"70g\").config(\"spark.driver.memory\", \"50g\").config(\"spark.memory.offHeap.enabled\",True).config(\"spark.memory.offHeap.size\",\"16g\").appName(\"Vine_analysis\")\\\n",
        ".config(\"spark.jars\", \"/content/postgresql-42.2.19.jar\").getOrCreate()\n",
        "# Enable Arrow-based columnar data transfers\n",
        "spark.conf.set(\"park.sqls.execution.arrow.enabled\", \"true\")\n",
        "# Increase timeout values\n",
        "spark.conf.set(\"spark.sql.broadcastTimeout\", \"1000\")\n",
        "# disable the broadcasting\n",
        "spark.conf.set(\"spark.sql.autoBroadcastJoinThreshold\", \"-1\")"
      ],
      "execution_count": null,
      "outputs": []
    },
    {
      "cell_type": "markdown",
      "metadata": {
        "id": "BBESp1s-VE2r"
      },
      "source": [
        "# Load data from AWS RDS"
      ]
    },
    {
      "cell_type": "code",
      "metadata": {
        "colab": {
          "base_uri": "https://localhost:8080/"
        },
        "id": "8jEX3y9aU9LQ",
        "outputId": "47ab7dfb-4811-45a1-f8f9-6c34b664049a"
      },
      "source": [
        "from google.colab import drive\n",
        "drive.mount('/content/drive', force_remount=True)"
      ],
      "execution_count": null,
      "outputs": [
        {
          "output_type": "stream",
          "text": [
            "Mounted at /content/drive\n"
          ],
          "name": "stdout"
        }
      ]
    },
    {
      "cell_type": "code",
      "metadata": {
        "id": "P0D4jI9CU9Nf"
      },
      "source": [
        "# Insert the directory\n",
        "import sys\n",
        "sys.path.insert(0,'/content/drive/My Drive/Colab_Notebooks/Homework/')"
      ],
      "execution_count": null,
      "outputs": []
    },
    {
      "cell_type": "code",
      "metadata": {
        "id": "2u3dT31yU9Py"
      },
      "source": [
        "from config import server, database, port, username, password"
      ],
      "execution_count": null,
      "outputs": []
    },
    {
      "cell_type": "code",
      "metadata": {
        "colab": {
          "base_uri": "https://localhost:8080/"
        },
        "id": "CKn1zHZCU9SF",
        "outputId": "873238b5-6a0f-447c-ad41-539db13d4a74"
      },
      "source": [
        "# home imprvements\n",
        "df1 = spark.read.jdbc(url = f\"jdbc:postgresql://{server}:{port}/{database}\", \n",
        "                     table = \"(SELECT DISTINCT t2.star_rating, t2.helpful_votes, t2.total_votes, t2.vine, t1.verified_purchase\\\n",
        "                     FROM reviews AS t1 INNER JOIN vine_table AS t2 ON t1.review_id = t2.review_id\\\n",
        "                     AND t2.total_votes>=10 AND t2.helpful_votes/t2.total_votes >= 0.5 AND t2.batch_id =1) AS my_table\",\n",
        "                     properties={\"user\": f\"{username}\", \"password\": f\"{password}\", \"driver\": 'org.postgresql.Driver'})\n",
        "df1.count()"
      ],
      "execution_count": null,
      "outputs": [
        {
          "output_type": "execute_result",
          "data": {
            "text/plain": [
              "699"
            ]
          },
          "metadata": {
            "tags": []
          },
          "execution_count": 6
        }
      ]
    },
    {
      "cell_type": "code",
      "metadata": {
        "colab": {
          "base_uri": "https://localhost:8080/"
        },
        "id": "zm6Lq6RGU9UU",
        "outputId": "0b62d2f5-9e9c-476f-abf8-a8f331be1ac8"
      },
      "source": [
        "#  musical instruments\n",
        "df2 = spark.read.jdbc(url = f\"jdbc:postgresql://{server}:{port}/{database}\", \n",
        "                     table = \"(SELECT DISTINCT t2.star_rating, t2.helpful_votes, t2.total_votes, t2.vine, t1.verified_purchase\\\n",
        "                     FROM reviews AS t1 INNER JOIN vine_table AS t2 ON t1.review_id = t2.review_id\\\n",
        "                     AND t2.total_votes>=10 AND t2.helpful_votes/t2.total_votes >= 0.5 AND t2.batch_id =2) AS my_table\",\n",
        "                     properties={\"user\": f\"{username}\", \"password\": f\"{password}\", \"driver\": 'org.postgresql.Driver'})\n",
        "df2.count()"
      ],
      "execution_count": null,
      "outputs": [
        {
          "output_type": "execute_result",
          "data": {
            "text/plain": [
              "421"
            ]
          },
          "metadata": {
            "tags": []
          },
          "execution_count": 7
        }
      ]
    },
    {
      "cell_type": "code",
      "metadata": {
        "id": "LkVksTPNcXhM"
      },
      "source": [
        "df1.createOrReplaceTempView(\"table1\")\n",
        "df2.createOrReplaceTempView(\"table2\")"
      ],
      "execution_count": null,
      "outputs": []
    },
    {
      "cell_type": "code",
      "metadata": {
        "colab": {
          "base_uri": "https://localhost:8080/"
        },
        "id": "NYTCcrDsctsz",
        "outputId": "00ae18fb-f725-487b-c03d-ff22f175cf7d"
      },
      "source": [
        "df = spark.sql(\"SELECT * from table1 UNION ALL SELECT * from table2\")\n",
        "df.show()"
      ],
      "execution_count": null,
      "outputs": [
        {
          "output_type": "stream",
          "text": [
            "+-----------+-------------+-----------+----+-----------------+\n",
            "|star_rating|helpful_votes|total_votes|vine|verified_purchase|\n",
            "+-----------+-------------+-----------+----+-----------------+\n",
            "|          3|           71|         71|   N|                Y|\n",
            "|          5|           66|         66|   N|                Y|\n",
            "|          5|           28|         28|   N|                N|\n",
            "|          5|           40|         40|   N|                Y|\n",
            "|          2|           37|         37|   N|                Y|\n",
            "|          1|           35|         35|   N|                N|\n",
            "|          4|           24|         24|   Y|                N|\n",
            "|          3|           34|         34|   N|                N|\n",
            "|          5|           98|         98|   N|                N|\n",
            "|          5|           32|         32|   N|                N|\n",
            "|          3|           21|         21|   Y|                N|\n",
            "|          3|           31|         31|   N|                Y|\n",
            "|          2|           33|         33|   N|                N|\n",
            "|          1|           79|         79|   N|                N|\n",
            "|          5|          136|        136|   N|                Y|\n",
            "|          4|           44|         44|   N|                Y|\n",
            "|          5|           22|         22|   N|                N|\n",
            "|          2|           20|         20|   N|                Y|\n",
            "|          1|           11|         11|   N|                Y|\n",
            "|          2|           35|         35|   N|                N|\n",
            "+-----------+-------------+-----------+----+-----------------+\n",
            "only showing top 20 rows\n",
            "\n"
          ],
          "name": "stdout"
        }
      ]
    },
    {
      "cell_type": "code",
      "metadata": {
        "id": "iFUfDmrPctzd"
      },
      "source": [
        "from pyspark.sql.functions import col, avg\n",
        "df_paid = df.filter(\"vine='Y'\")\n",
        "df_unpaid = df.filter(\"vine='N'\")"
      ],
      "execution_count": null,
      "outputs": []
    },
    {
      "cell_type": "code",
      "metadata": {
        "colab": {
          "base_uri": "https://localhost:8080/"
        },
        "id": "bjFrpHAJdS6t",
        "outputId": "3ead2e62-ce86-441d-eca0-6f6c37deb68b"
      },
      "source": [
        "df_paid.describe().show()"
      ],
      "execution_count": null,
      "outputs": [
        {
          "output_type": "stream",
          "text": [
            "+-------+------------------+------------------+------------------+----+-----------------+\n",
            "|summary|       star_rating|     helpful_votes|       total_votes|vine|verified_purchase|\n",
            "+-------+------------------+------------------+------------------+----+-----------------+\n",
            "|  count|                53|                53|                53|  53|               53|\n",
            "|   mean| 4.056603773584905| 21.41509433962264| 21.41509433962264|null|             null|\n",
            "| stddev|1.1165726119146009|15.791226827022253|15.791226827022253|null|             null|\n",
            "|    min|                 1|                10|                10|   Y|                N|\n",
            "|    max|                 5|               106|               106|   Y|                Y|\n",
            "+-------+------------------+------------------+------------------+----+-----------------+\n",
            "\n"
          ],
          "name": "stdout"
        }
      ]
    },
    {
      "cell_type": "code",
      "metadata": {
        "colab": {
          "base_uri": "https://localhost:8080/"
        },
        "id": "5j-i9CYRdWni",
        "outputId": "38f7c691-6123-4cc4-acb0-677d5ce37a20"
      },
      "source": [
        "df_unpaid.describe().show()"
      ],
      "execution_count": null,
      "outputs": [
        {
          "output_type": "stream",
          "text": [
            "+-------+------------------+------------------+------------------+----+-----------------+\n",
            "|summary|       star_rating|     helpful_votes|       total_votes|vine|verified_purchase|\n",
            "+-------+------------------+------------------+------------------+----+-----------------+\n",
            "|  count|              1067|              1067|              1067|1067|             1067|\n",
            "|   mean| 3.478912839737582| 47.33083411433927| 47.33083411433927|null|             null|\n",
            "| stddev|1.4373324321598508|35.014446436397016|35.014446436397016|null|             null|\n",
            "|    min|                 1|                10|                10|   N|                N|\n",
            "|    max|                 5|               318|               318|   N|                Y|\n",
            "+-------+------------------+------------------+------------------+----+-----------------+\n",
            "\n"
          ],
          "name": "stdout"
        }
      ]
    },
    {
      "cell_type": "code",
      "metadata": {
        "colab": {
          "base_uri": "https://localhost:8080/"
        },
        "id": "RSOhNv9tdWzu",
        "outputId": "f76da172-c24d-4ba8-c0ae-67af93666344"
      },
      "source": [
        "df_paid[df_paid['star_rating'] == 5].count()"
      ],
      "execution_count": null,
      "outputs": [
        {
          "output_type": "execute_result",
          "data": {
            "text/plain": [
              "23"
            ]
          },
          "metadata": {
            "tags": []
          },
          "execution_count": 13
        }
      ]
    },
    {
      "cell_type": "code",
      "metadata": {
        "colab": {
          "base_uri": "https://localhost:8080/"
        },
        "id": "FFhBoQNDdW1-",
        "outputId": "37def72b-bca4-4588-b41b-f994a961adc4"
      },
      "source": [
        "df_paid.count()"
      ],
      "execution_count": null,
      "outputs": [
        {
          "output_type": "execute_result",
          "data": {
            "text/plain": [
              "53"
            ]
          },
          "metadata": {
            "tags": []
          },
          "execution_count": 14
        }
      ]
    },
    {
      "cell_type": "code",
      "metadata": {
        "colab": {
          "base_uri": "https://localhost:8080/"
        },
        "id": "4iuZE-j9dmxF",
        "outputId": "028927a3-4482-46af-deca-6052894ff94c"
      },
      "source": [
        "print(f\"Percentage of 5 star vine: {round(df_paid[df_paid['star_rating'] == 5].count()/df_paid.count()*100,3)}%\")"
      ],
      "execution_count": null,
      "outputs": [
        {
          "output_type": "stream",
          "text": [
            "Percentage of 5 star vine: 43.396%\n"
          ],
          "name": "stdout"
        }
      ]
    },
    {
      "cell_type": "code",
      "metadata": {
        "colab": {
          "base_uri": "https://localhost:8080/"
        },
        "id": "PxOBFGQsdmzd",
        "outputId": "9cc3a96d-38c9-4fa1-bf9f-1c87275ed0c6"
      },
      "source": [
        "df_unpaid[df_unpaid['star_rating'] == 5].count()"
      ],
      "execution_count": null,
      "outputs": [
        {
          "output_type": "execute_result",
          "data": {
            "text/plain": [
              "350"
            ]
          },
          "metadata": {
            "tags": []
          },
          "execution_count": 16
        }
      ]
    },
    {
      "cell_type": "code",
      "metadata": {
        "colab": {
          "base_uri": "https://localhost:8080/"
        },
        "id": "TJkfBQk7dW4K",
        "outputId": "8a2af5d6-2368-42f8-d303-a226164cba0f"
      },
      "source": [
        "df_unpaid.count()"
      ],
      "execution_count": null,
      "outputs": [
        {
          "output_type": "execute_result",
          "data": {
            "text/plain": [
              "1067"
            ]
          },
          "metadata": {
            "tags": []
          },
          "execution_count": 17
        }
      ]
    },
    {
      "cell_type": "code",
      "metadata": {
        "colab": {
          "base_uri": "https://localhost:8080/"
        },
        "id": "eiwaRhtrdW6b",
        "outputId": "bbb4f573-392a-4342-a06d-eaebdfb991dd"
      },
      "source": [
        "print(f\"Percentage of 5 star non-vine: {round(df_unpaid[df_unpaid['star_rating'] == 5].count()/df_unpaid.count()*100,3)}%\")"
      ],
      "execution_count": null,
      "outputs": [
        {
          "output_type": "stream",
          "text": [
            "Percentage of 5 star non-vine: 32.802%\n"
          ],
          "name": "stdout"
        }
      ]
    },
    {
      "cell_type": "markdown",
      "metadata": {
        "id": "81CMwPaqh1qa"
      },
      "source": [
        "## looking at product categories separately"
      ]
    },
    {
      "cell_type": "code",
      "metadata": {
        "colab": {
          "base_uri": "https://localhost:8080/"
        },
        "id": "SBume7IMgfYN",
        "outputId": "f22c7cee-bc79-4b6d-e4d1-742eeebf0e93"
      },
      "source": [
        "# home improvement\n",
        "df1_paid = df1.filter(\"vine='Y'\")\n",
        "df1_unpaid = df1.filter(\"vine='N'\")\n",
        "print(f\"Count of 5 star Vines: {df1_paid[df1_paid['star_rating'] == 5].count()}\")\n",
        "print(f\"Count of 5 star Non-Vines: {df1_unpaid[df1_unpaid['star_rating'] == 5].count()}\")\n",
        "print(f\"Percentage of 5 star vine for home improvement products: {round(df1_paid[df1_paid['star_rating'] == 5].count()/df1_paid.count()*100,3)}%\")\n",
        "print(f\"Percentage of 5 star non-vine for home improvement products: {round(df1_unpaid[df1_unpaid['star_rating'] == 5].count()/df1_unpaid.count()*100,3)}%\")"
      ],
      "execution_count": null,
      "outputs": [
        {
          "output_type": "stream",
          "text": [
            "Count of 5 star Vines: 17\n",
            "Count of 5 star Non-Vines: 208\n",
            "Percentage of 5 star vine for home improvement products: 39.535%\n",
            "Percentage of 5 star non-vine for home improvement products: 31.707%\n"
          ],
          "name": "stdout"
        }
      ]
    },
    {
      "cell_type": "code",
      "metadata": {
        "colab": {
          "base_uri": "https://localhost:8080/"
        },
        "id": "QUL7vq9qhksv",
        "outputId": "8d19f7c9-bbbb-4189-a50a-11dab4bfe5af"
      },
      "source": [
        "spark.sql(\"SELECT vine, AVG(star_rating), STD(star_rating) from table1 GROUP BY vine\").show()"
      ],
      "execution_count": null,
      "outputs": [
        {
          "output_type": "stream",
          "text": [
            "+----+------------------+--------------------------------+\n",
            "|vine|  avg(star_rating)|std(CAST(star_rating AS DOUBLE))|\n",
            "+----+------------------+--------------------------------+\n",
            "|   Y|3.9302325581395348|              1.1831223588697772|\n",
            "|   N| 3.410060975609756|              1.4592132134760738|\n",
            "+----+------------------+--------------------------------+\n",
            "\n"
          ],
          "name": "stdout"
        }
      ]
    },
    {
      "cell_type": "code",
      "metadata": {
        "colab": {
          "base_uri": "https://localhost:8080/"
        },
        "id": "3wsPuop8gfam",
        "outputId": "af426908-fd8e-4244-bd90-e2af25484ad7"
      },
      "source": [
        "# musical instrument\n",
        "df2_paid = df2.filter(\"vine='Y'\")\n",
        "df2_unpaid = df2.filter(\"vine='N'\")\n",
        "print(f\"Count of 5 star Vines: {df2_paid[df2_paid['star_rating'] == 5].count()}\")\n",
        "print(f\"Count of 5 star Non-Vines: {df2_unpaid[df2_unpaid['star_rating'] == 5].count()}\")\n",
        "print(f\"Percentage of 5 star vine for home improvement products: {round(df2_paid[df2_paid['star_rating'] == 5].count()/df2_paid.count()*100,3)}%\")\n",
        "print(f\"Percentage of 5 star non-vine for home improvement products: {round(df2_unpaid[df2_unpaid['star_rating'] == 5].count()/df2_unpaid.count()*100,3)}%\")"
      ],
      "execution_count": null,
      "outputs": [
        {
          "output_type": "stream",
          "text": [
            "Count of 5 star Vines: 6\n",
            "Count of 5 star Non-Vines: 142\n",
            "Percentage of 5 star vine for home improvement products: 60.0%\n",
            "Percentage of 5 star non-vine for home improvement products: 34.55%\n"
          ],
          "name": "stdout"
        }
      ]
    },
    {
      "cell_type": "code",
      "metadata": {
        "colab": {
          "base_uri": "https://localhost:8080/"
        },
        "id": "O3yReOI9gfc6",
        "outputId": "35b9480f-6833-4edb-8be3-b90c095f64a6"
      },
      "source": [
        "spark.sql(\"SELECT vine, AVG(star_rating), STD(star_rating) from table2 GROUP BY vine\").show()"
      ],
      "execution_count": null,
      "outputs": [
        {
          "output_type": "stream",
          "text": [
            "+----+-----------------+--------------------------------+\n",
            "|vine| avg(star_rating)|std(CAST(star_rating AS DOUBLE))|\n",
            "+----+-----------------+--------------------------------+\n",
            "|   Y|              4.6|              0.5163977794943222|\n",
            "|   N|3.588807785888078|              1.3964314413105627|\n",
            "+----+-----------------+--------------------------------+\n",
            "\n"
          ],
          "name": "stdout"
        }
      ]
    },
    {
      "cell_type": "code",
      "metadata": {
        "colab": {
          "base_uri": "https://localhost:8080/"
        },
        "id": "v0U4pTFBsOu7",
        "outputId": "7e046456-af6f-413a-8930-503b3cbbfbb8"
      },
      "source": [
        "#  all reviews\n",
        "spark_df = spark.read.jdbc(url = f\"jdbc:postgresql://{server}:{port}/{database}\", \n",
        "                     table = \"(SELECT DISTINCT t2.star_rating, t2.helpful_votes, t2.total_votes, t2.vine, t1.verified_purchase, t3.product_category\\\n",
        "                     FROM reviews AS t1 INNER JOIN vine_table AS t2 ON t1.review_id = t2.review_id\\\n",
        "                     AND t2.total_votes>=10 AND t2.helpful_votes/t2.total_votes >= 0.5\\\n",
        "                     INNER JOIN (SELECT DISTINCT batch_id, product_category FROM products) AS t3 ON t1.batch_id = t3.batch_id) AS my_table\",\n",
        "                     properties={\"user\": f\"{username}\", \"password\": f\"{password}\", \"driver\": 'org.postgresql.Driver'})\n",
        "spark_df.count()"
      ],
      "execution_count": null,
      "outputs": [
        {
          "output_type": "execute_result",
          "data": {
            "text/plain": [
              "1120"
            ]
          },
          "metadata": {
            "tags": []
          },
          "execution_count": 24
        }
      ]
    },
    {
      "cell_type": "code",
      "metadata": {
        "colab": {
          "base_uri": "https://localhost:8080/"
        },
        "id": "4tQAjakmuuCf",
        "outputId": "3e39b050-f36a-44d2-9d41-4c006d158474"
      },
      "source": [
        "spark_df.show()"
      ],
      "execution_count": null,
      "outputs": [
        {
          "output_type": "stream",
          "text": [
            "+-----------+-------------+-----------+----+-----------------+-------------------+\n",
            "|star_rating|helpful_votes|total_votes|vine|verified_purchase|   product_category|\n",
            "+-----------+-------------+-----------+----+-----------------+-------------------+\n",
            "|          5|           60|         60|   N|                Y|Musical Instruments|\n",
            "|          3|           29|         29|   N|                Y|Musical Instruments|\n",
            "|          4|           34|         34|   N|                Y|   Home Improvement|\n",
            "|          5|           36|         36|   N|                Y|Musical Instruments|\n",
            "|          4|           64|         64|   N|                N|   Home Improvement|\n",
            "|          5|           16|         16|   N|                Y|Musical Instruments|\n",
            "|          3|           28|         28|   N|                Y|   Home Improvement|\n",
            "|          2|           18|         18|   N|                Y|   Home Improvement|\n",
            "|          1|           38|         38|   N|                N|   Home Improvement|\n",
            "|          3|           17|         17|   N|                Y|Musical Instruments|\n",
            "|          4|           93|         93|   N|                Y|   Home Improvement|\n",
            "|          5|           24|         24|   N|                Y|   Home Improvement|\n",
            "|          2|           23|         23|   N|                N|   Home Improvement|\n",
            "|          3|           39|         39|   N|                N|   Home Improvement|\n",
            "|          3|           46|         46|   N|                N|   Home Improvement|\n",
            "|          3|           41|         41|   N|                Y|   Home Improvement|\n",
            "|          4|           65|         65|   N|                Y|   Home Improvement|\n",
            "|          5|          150|        150|   N|                N|   Home Improvement|\n",
            "|          5|          117|        117|   N|                N|   Home Improvement|\n",
            "|          4|           24|         24|   N|                Y|Musical Instruments|\n",
            "+-----------+-------------+-----------+----+-----------------+-------------------+\n",
            "only showing top 20 rows\n",
            "\n"
          ],
          "name": "stdout"
        }
      ]
    },
    {
      "cell_type": "code",
      "metadata": {
        "colab": {
          "base_uri": "https://localhost:8080/",
          "height": 266
        },
        "id": "bXN2HSLUuczs",
        "outputId": "16445a34-aa57-4456-f6c2-5f0ba699bde0"
      },
      "source": [
        "pandas_df = spark_df.groupBy([\"product_category\", \"vine\", \"verified_purchase\"]).mean().toPandas()\n",
        "pandas_df.head(10)"
      ],
      "execution_count": null,
      "outputs": [
        {
          "output_type": "execute_result",
          "data": {
            "text/html": [
              "<div>\n",
              "<style scoped>\n",
              "    .dataframe tbody tr th:only-of-type {\n",
              "        vertical-align: middle;\n",
              "    }\n",
              "\n",
              "    .dataframe tbody tr th {\n",
              "        vertical-align: top;\n",
              "    }\n",
              "\n",
              "    .dataframe thead th {\n",
              "        text-align: right;\n",
              "    }\n",
              "</style>\n",
              "<table border=\"1\" class=\"dataframe\">\n",
              "  <thead>\n",
              "    <tr style=\"text-align: right;\">\n",
              "      <th></th>\n",
              "      <th>product_category</th>\n",
              "      <th>vine</th>\n",
              "      <th>verified_purchase</th>\n",
              "      <th>avg(star_rating)</th>\n",
              "      <th>avg(helpful_votes)</th>\n",
              "      <th>avg(total_votes)</th>\n",
              "    </tr>\n",
              "  </thead>\n",
              "  <tbody>\n",
              "    <tr>\n",
              "      <th>0</th>\n",
              "      <td>Home Improvement</td>\n",
              "      <td>N</td>\n",
              "      <td>Y</td>\n",
              "      <td>3.500000</td>\n",
              "      <td>57.301105</td>\n",
              "      <td>57.301105</td>\n",
              "    </tr>\n",
              "    <tr>\n",
              "      <th>1</th>\n",
              "      <td>Home Improvement</td>\n",
              "      <td>Y</td>\n",
              "      <td>N</td>\n",
              "      <td>3.930233</td>\n",
              "      <td>23.000000</td>\n",
              "      <td>23.000000</td>\n",
              "    </tr>\n",
              "    <tr>\n",
              "      <th>2</th>\n",
              "      <td>Musical Instruments</td>\n",
              "      <td>Y</td>\n",
              "      <td>N</td>\n",
              "      <td>4.555556</td>\n",
              "      <td>14.777778</td>\n",
              "      <td>14.777778</td>\n",
              "    </tr>\n",
              "    <tr>\n",
              "      <th>3</th>\n",
              "      <td>Musical Instruments</td>\n",
              "      <td>N</td>\n",
              "      <td>N</td>\n",
              "      <td>3.608491</td>\n",
              "      <td>41.985849</td>\n",
              "      <td>41.985849</td>\n",
              "    </tr>\n",
              "    <tr>\n",
              "      <th>4</th>\n",
              "      <td>Musical Instruments</td>\n",
              "      <td>N</td>\n",
              "      <td>Y</td>\n",
              "      <td>3.567839</td>\n",
              "      <td>36.733668</td>\n",
              "      <td>36.733668</td>\n",
              "    </tr>\n",
              "    <tr>\n",
              "      <th>5</th>\n",
              "      <td>Home Improvement</td>\n",
              "      <td>N</td>\n",
              "      <td>N</td>\n",
              "      <td>3.299320</td>\n",
              "      <td>46.081633</td>\n",
              "      <td>46.081633</td>\n",
              "    </tr>\n",
              "    <tr>\n",
              "      <th>6</th>\n",
              "      <td>Musical Instruments</td>\n",
              "      <td>Y</td>\n",
              "      <td>Y</td>\n",
              "      <td>5.000000</td>\n",
              "      <td>13.000000</td>\n",
              "      <td>13.000000</td>\n",
              "    </tr>\n",
              "  </tbody>\n",
              "</table>\n",
              "</div>"
            ],
            "text/plain": [
              "      product_category vine  ... avg(helpful_votes)  avg(total_votes)\n",
              "0     Home Improvement    N  ...          57.301105         57.301105\n",
              "1     Home Improvement    Y  ...          23.000000         23.000000\n",
              "2  Musical Instruments    Y  ...          14.777778         14.777778\n",
              "3  Musical Instruments    N  ...          41.985849         41.985849\n",
              "4  Musical Instruments    N  ...          36.733668         36.733668\n",
              "5     Home Improvement    N  ...          46.081633         46.081633\n",
              "6  Musical Instruments    Y  ...          13.000000         13.000000\n",
              "\n",
              "[7 rows x 6 columns]"
            ]
          },
          "metadata": {
            "tags": []
          },
          "execution_count": 38
        }
      ]
    },
    {
      "cell_type": "code",
      "metadata": {
        "colab": {
          "base_uri": "https://localhost:8080/",
          "height": 266
        },
        "id": "NFopXhiHvZ94",
        "outputId": "54b62df3-f141-4565-d8a1-3060b363574e"
      },
      "source": [
        "pandas_df.sort_values(by=\"product_category\", inplace= True)\n",
        "pandas_df.reset_index(inplace= True, drop = True)\n",
        "pandas_df.head(10)"
      ],
      "execution_count": null,
      "outputs": [
        {
          "output_type": "execute_result",
          "data": {
            "text/html": [
              "<div>\n",
              "<style scoped>\n",
              "    .dataframe tbody tr th:only-of-type {\n",
              "        vertical-align: middle;\n",
              "    }\n",
              "\n",
              "    .dataframe tbody tr th {\n",
              "        vertical-align: top;\n",
              "    }\n",
              "\n",
              "    .dataframe thead th {\n",
              "        text-align: right;\n",
              "    }\n",
              "</style>\n",
              "<table border=\"1\" class=\"dataframe\">\n",
              "  <thead>\n",
              "    <tr style=\"text-align: right;\">\n",
              "      <th></th>\n",
              "      <th>product_category</th>\n",
              "      <th>vine</th>\n",
              "      <th>verified_purchase</th>\n",
              "      <th>avg(star_rating)</th>\n",
              "      <th>avg(helpful_votes)</th>\n",
              "      <th>avg(total_votes)</th>\n",
              "    </tr>\n",
              "  </thead>\n",
              "  <tbody>\n",
              "    <tr>\n",
              "      <th>0</th>\n",
              "      <td>Home Improvement</td>\n",
              "      <td>N</td>\n",
              "      <td>Y</td>\n",
              "      <td>3.500000</td>\n",
              "      <td>57.301105</td>\n",
              "      <td>57.301105</td>\n",
              "    </tr>\n",
              "    <tr>\n",
              "      <th>1</th>\n",
              "      <td>Home Improvement</td>\n",
              "      <td>Y</td>\n",
              "      <td>N</td>\n",
              "      <td>3.930233</td>\n",
              "      <td>23.000000</td>\n",
              "      <td>23.000000</td>\n",
              "    </tr>\n",
              "    <tr>\n",
              "      <th>2</th>\n",
              "      <td>Home Improvement</td>\n",
              "      <td>N</td>\n",
              "      <td>N</td>\n",
              "      <td>3.299320</td>\n",
              "      <td>46.081633</td>\n",
              "      <td>46.081633</td>\n",
              "    </tr>\n",
              "    <tr>\n",
              "      <th>3</th>\n",
              "      <td>Musical Instruments</td>\n",
              "      <td>Y</td>\n",
              "      <td>N</td>\n",
              "      <td>4.555556</td>\n",
              "      <td>14.777778</td>\n",
              "      <td>14.777778</td>\n",
              "    </tr>\n",
              "    <tr>\n",
              "      <th>4</th>\n",
              "      <td>Musical Instruments</td>\n",
              "      <td>N</td>\n",
              "      <td>N</td>\n",
              "      <td>3.608491</td>\n",
              "      <td>41.985849</td>\n",
              "      <td>41.985849</td>\n",
              "    </tr>\n",
              "    <tr>\n",
              "      <th>5</th>\n",
              "      <td>Musical Instruments</td>\n",
              "      <td>N</td>\n",
              "      <td>Y</td>\n",
              "      <td>3.567839</td>\n",
              "      <td>36.733668</td>\n",
              "      <td>36.733668</td>\n",
              "    </tr>\n",
              "    <tr>\n",
              "      <th>6</th>\n",
              "      <td>Musical Instruments</td>\n",
              "      <td>Y</td>\n",
              "      <td>Y</td>\n",
              "      <td>5.000000</td>\n",
              "      <td>13.000000</td>\n",
              "      <td>13.000000</td>\n",
              "    </tr>\n",
              "  </tbody>\n",
              "</table>\n",
              "</div>"
            ],
            "text/plain": [
              "      product_category vine  ... avg(helpful_votes)  avg(total_votes)\n",
              "0     Home Improvement    N  ...          57.301105         57.301105\n",
              "1     Home Improvement    Y  ...          23.000000         23.000000\n",
              "2     Home Improvement    N  ...          46.081633         46.081633\n",
              "3  Musical Instruments    Y  ...          14.777778         14.777778\n",
              "4  Musical Instruments    N  ...          41.985849         41.985849\n",
              "5  Musical Instruments    N  ...          36.733668         36.733668\n",
              "6  Musical Instruments    Y  ...          13.000000         13.000000\n",
              "\n",
              "[7 rows x 6 columns]"
            ]
          },
          "metadata": {
            "tags": []
          },
          "execution_count": 39
        }
      ]
    },
    {
      "cell_type": "code",
      "metadata": {
        "colab": {
          "base_uri": "https://localhost:8080/",
          "height": 142
        },
        "id": "a8LP7K85Bs08",
        "outputId": "d1277c80-d7ec-400b-aa49-39b7a1d9e81e"
      },
      "source": [
        "pandas_df1 = pandas_df[pandas_df[\"product_category\"]==\"Home Improvement\"].groupby([\"product_category\",\t\"vine\"], as_index=False).mean()\n",
        "pandas_df1.set_index(\"vine\", inplace=True)\n",
        "pandas_df1"
      ],
      "execution_count": null,
      "outputs": [
        {
          "output_type": "execute_result",
          "data": {
            "text/html": [
              "<div>\n",
              "<style scoped>\n",
              "    .dataframe tbody tr th:only-of-type {\n",
              "        vertical-align: middle;\n",
              "    }\n",
              "\n",
              "    .dataframe tbody tr th {\n",
              "        vertical-align: top;\n",
              "    }\n",
              "\n",
              "    .dataframe thead th {\n",
              "        text-align: right;\n",
              "    }\n",
              "</style>\n",
              "<table border=\"1\" class=\"dataframe\">\n",
              "  <thead>\n",
              "    <tr style=\"text-align: right;\">\n",
              "      <th></th>\n",
              "      <th>product_category</th>\n",
              "      <th>avg(star_rating)</th>\n",
              "      <th>avg(helpful_votes)</th>\n",
              "      <th>avg(total_votes)</th>\n",
              "    </tr>\n",
              "    <tr>\n",
              "      <th>vine</th>\n",
              "      <th></th>\n",
              "      <th></th>\n",
              "      <th></th>\n",
              "      <th></th>\n",
              "    </tr>\n",
              "  </thead>\n",
              "  <tbody>\n",
              "    <tr>\n",
              "      <th>N</th>\n",
              "      <td>Home Improvement</td>\n",
              "      <td>3.399660</td>\n",
              "      <td>51.691369</td>\n",
              "      <td>51.691369</td>\n",
              "    </tr>\n",
              "    <tr>\n",
              "      <th>Y</th>\n",
              "      <td>Home Improvement</td>\n",
              "      <td>3.930233</td>\n",
              "      <td>23.000000</td>\n",
              "      <td>23.000000</td>\n",
              "    </tr>\n",
              "  </tbody>\n",
              "</table>\n",
              "</div>"
            ],
            "text/plain": [
              "      product_category  avg(star_rating)  avg(helpful_votes)  avg(total_votes)\n",
              "vine                                                                          \n",
              "N     Home Improvement          3.399660           51.691369         51.691369\n",
              "Y     Home Improvement          3.930233           23.000000         23.000000"
            ]
          },
          "metadata": {
            "tags": []
          },
          "execution_count": 61
        }
      ]
    },
    {
      "cell_type": "code",
      "metadata": {
        "colab": {
          "base_uri": "https://localhost:8080/",
          "height": 312
        },
        "id": "BOYfE5vdChcY",
        "outputId": "447d46db-8def-432c-dcd5-8242c011fb2c"
      },
      "source": [
        "pandas_df1[\"avg(star_rating)\"].plot(kind='bar', rot=0, title = \"Home Improvement\")"
      ],
      "execution_count": null,
      "outputs": [
        {
          "output_type": "execute_result",
          "data": {
            "text/plain": [
              "<matplotlib.axes._subplots.AxesSubplot at 0x7f84be336310>"
            ]
          },
          "metadata": {
            "tags": []
          },
          "execution_count": 71
        },
        {
          "output_type": "display_data",
          "data": {
            "image/png": "[encoded data removed]",
            "text/plain": [
              "<Figure size 432x288 with 1 Axes>"
            ]
          },
          "metadata": {
            "tags": [],
            "needs_background": "light"
          }
        }
      ]
    },
    {
      "cell_type": "code",
      "metadata": {
        "colab": {
          "base_uri": "https://localhost:8080/",
          "height": 142
        },
        "id": "0m54zBkVFD47",
        "outputId": "80d91d49-6386-4859-e057-45b807de6b44"
      },
      "source": [
        "pandas_df2 = pandas_df[pandas_df[\"product_category\"]==\"Musical Instruments\"].groupby([\"product_category\",\t\"vine\"], as_index=False).mean()\n",
        "pandas_df2.set_index(\"vine\", inplace=True)\n",
        "pandas_df2"
      ],
      "execution_count": null,
      "outputs": [
        {
          "output_type": "execute_result",
          "data": {
            "text/html": [
              "<div>\n",
              "<style scoped>\n",
              "    .dataframe tbody tr th:only-of-type {\n",
              "        vertical-align: middle;\n",
              "    }\n",
              "\n",
              "    .dataframe tbody tr th {\n",
              "        vertical-align: top;\n",
              "    }\n",
              "\n",
              "    .dataframe thead th {\n",
              "        text-align: right;\n",
              "    }\n",
              "</style>\n",
              "<table border=\"1\" class=\"dataframe\">\n",
              "  <thead>\n",
              "    <tr style=\"text-align: right;\">\n",
              "      <th></th>\n",
              "      <th>product_category</th>\n",
              "      <th>avg(star_rating)</th>\n",
              "      <th>avg(helpful_votes)</th>\n",
              "      <th>avg(total_votes)</th>\n",
              "    </tr>\n",
              "    <tr>\n",
              "      <th>vine</th>\n",
              "      <th></th>\n",
              "      <th></th>\n",
              "      <th></th>\n",
              "      <th></th>\n",
              "    </tr>\n",
              "  </thead>\n",
              "  <tbody>\n",
              "    <tr>\n",
              "      <th>N</th>\n",
              "      <td>Musical Instruments</td>\n",
              "      <td>3.588165</td>\n",
              "      <td>39.359759</td>\n",
              "      <td>39.359759</td>\n",
              "    </tr>\n",
              "    <tr>\n",
              "      <th>Y</th>\n",
              "      <td>Musical Instruments</td>\n",
              "      <td>4.777778</td>\n",
              "      <td>13.888889</td>\n",
              "      <td>13.888889</td>\n",
              "    </tr>\n",
              "  </tbody>\n",
              "</table>\n",
              "</div>"
            ],
            "text/plain": [
              "         product_category  ...  avg(total_votes)\n",
              "vine                       ...                  \n",
              "N     Musical Instruments  ...         39.359759\n",
              "Y     Musical Instruments  ...         13.888889\n",
              "\n",
              "[2 rows x 4 columns]"
            ]
          },
          "metadata": {
            "tags": []
          },
          "execution_count": 73
        }
      ]
    },
    {
      "cell_type": "code",
      "metadata": {
        "colab": {
          "base_uri": "https://localhost:8080/",
          "height": 312
        },
        "id": "AhwuB4A5FP5t",
        "outputId": "4f2c07f3-f2f6-4fb9-ea4d-101fb649ab80"
      },
      "source": [
        "pandas_df2[\"avg(star_rating)\"].plot(kind='bar', rot=0, title = \"Musical Instruments\")"
      ],
      "execution_count": null,
      "outputs": [
        {
          "output_type": "execute_result",
          "data": {
            "text/plain": [
              "<matplotlib.axes._subplots.AxesSubplot at 0x7f84be2b6dd0>"
            ]
          },
          "metadata": {
            "tags": []
          },
          "execution_count": 74
        },
        {
          "output_type": "display_data",
          "data": {
            "image/png": "[encoded data removed]",
            "text/plain": [
              "<Figure size 432x288 with 1 Axes>"
            ]
          },
          "metadata": {
            "tags": [],
            "needs_background": "light"
          }
        }
      ]
    },
    {
      "cell_type": "markdown",
      "metadata": {
        "id": "dMyjDYxqethJ"
      },
      "source": [
        "# Conclusion\n",
        "\n",
        "* We can see that the percentage of 5-star reviews in Vine is not close to non-Vine reviews (43.396% to 32.802%). Which means that vine reviews are biased not accurate.\n",
        "\n",
        "* Although the number of Vine reviews is pretty low, so far it can still represent the product. However, the average rating from Vine customers is 4.05  with std deviation of 1.12, whereas the average rating from Vine customers is 3.48 with std deviation of 1.44.\n",
        "\n",
        "* The average rating for vines varies from category to category. For example, average rating for musical instruments is way higher than home improvement products. So be careful when purchasing musical instruments as the vine reviews might skew your view. \n",
        "\n",
        "* I believe the Vine customers tend to give higher ratings and pretty focusing on the higher ratings too. So reviews from Vine customers are not that trustworthy for me."
      ]
    }
  ]
}