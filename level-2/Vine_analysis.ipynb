{
  "nbformat": 4,
  "nbformat_minor": 0,
  "metadata": {
    "colab": {
      "name": "Vine_analysis.ipynb",
      "provenance": [],
      "collapsed_sections": []
    },
    "kernelspec": {
      "name": "python3",
      "display_name": "Python 3"
    },
    "language_info": {
      "name": "python"
    }
  },
  "cells": [
    {
      "cell_type": "code",
      "metadata": {
        "colab": {
          "base_uri": "https://localhost:8080/"
        },
        "id": "ltUDb6XxU6LX",
        "outputId": "fd8499cf-fd66-4034-f8ee-b1ffcf220516"
      },
      "source": [
        "import os\n",
        "# Find the latest version of spark 3.0  from http://www-us.apache.org/dist/spark/ and enter as the spark version\n",
        "# For example:\n",
        "# spark_version = 'spark-3.0.2'\n",
        "spark_version = 'spark-3.1.1'\n",
        "os.environ['SPARK_VERSION']=spark_version\n",
        "\n",
        "# Install Spark and Java\n",
        "!apt-get update\n",
        "!apt-get install openjdk-11-jdk-headless -qq > /dev/null\n",
        "!wget -q http://www-us.apache.org/dist/spark/$SPARK_VERSION/$SPARK_VERSION-bin-hadoop2.7.tgz\n",
        "!wget -q https://jdbc.postgresql.org/download/postgresql-42.2.19.jar\n",
        "!tar xf $SPARK_VERSION-bin-hadoop2.7.tgz\n",
        "!pip install -q findspark\n",
        "\n",
        "# Set Environment Variables\n",
        "os.environ[\"JAVA_HOME\"] = \"/usr/lib/jvm/java-11-openjdk-amd64\"\n",
        "os.environ[\"SPARK_HOME\"] = f\"/content/{spark_version}-bin-hadoop2.7\"\n",
        "os.environ[\"SPARK_CLASSPATH\"] = f\"/content/postgresql-42.2.19.jar\"\n",
        "\n",
        "# Start a SparkSession\n",
        "import findspark\n",
        "findspark.init()"
      ],
      "execution_count": null,
      "outputs": [
        {
          "output_type": "stream",
          "text": [
            "\r0% [Working]\r            \rGet:1 http://security.ubuntu.com/ubuntu bionic-security InRelease [88.7 kB]\n",
            "Get:2 https://cloud.r-project.org/bin/linux/ubuntu bionic-cran40/ InRelease [3,626 B]\n",
            "Ign:3 https://developer.download.nvidia.com/compute/cuda/repos/ubuntu1804/x86_64  InRelease\n",
            "Hit:4 http://archive.ubuntu.com/ubuntu bionic InRelease\n",
            "Ign:5 https://developer.download.nvidia.com/compute/machine-learning/repos/ubuntu1804/x86_64  InRelease\n",
            "Hit:6 https://developer.download.nvidia.com/compute/cuda/repos/ubuntu1804/x86_64  Release\n",
            "Hit:7 https://developer.download.nvidia.com/compute/machine-learning/repos/ubuntu1804/x86_64  Release\n",
            "Get:8 http://archive.ubuntu.com/ubuntu bionic-updates InRelease [88.7 kB]\n",
            "Get:9 http://ppa.launchpad.net/c2d4u.team/c2d4u4.0+/ubuntu bionic InRelease [15.9 kB]\n",
            "Hit:10 http://ppa.launchpad.net/cran/libgit2/ubuntu bionic InRelease\n",
            "Get:11 http://archive.ubuntu.com/ubuntu bionic-backports InRelease [74.6 kB]\n",
            "Get:12 http://security.ubuntu.com/ubuntu bionic-security/main amd64 Packages [2,077 kB]\n",
            "Get:13 http://ppa.launchpad.net/deadsnakes/ppa/ubuntu bionic InRelease [15.9 kB]\n",
            "Get:14 http://security.ubuntu.com/ubuntu bionic-security/universe amd64 Packages [1,404 kB]\n",
            "Get:15 http://security.ubuntu.com/ubuntu bionic-security/restricted amd64 Packages [372 kB]\n",
            "Hit:16 http://ppa.launchpad.net/graphics-drivers/ppa/ubuntu bionic InRelease\n",
            "Get:19 http://ppa.launchpad.net/c2d4u.team/c2d4u4.0+/ubuntu bionic/main Sources [1,751 kB]\n",
            "Get:20 http://archive.ubuntu.com/ubuntu bionic-updates/universe amd64 Packages [2,175 kB]\n",
            "Get:21 http://archive.ubuntu.com/ubuntu bionic-updates/restricted amd64 Packages [402 kB]\n",
            "Get:22 http://archive.ubuntu.com/ubuntu bionic-updates/main amd64 Packages [2,508 kB]\n",
            "Get:23 http://ppa.launchpad.net/c2d4u.team/c2d4u4.0+/ubuntu bionic/main amd64 Packages [896 kB]\n",
            "Get:24 http://ppa.launchpad.net/deadsnakes/ppa/ubuntu bionic/main amd64 Packages [39.5 kB]\n",
            "Fetched 11.9 MB in 3s (3,732 kB/s)\n",
            "Reading package lists... Done\n"
          ],
          "name": "stdout"
        }
      ]
    },
    {
      "cell_type": "code",
      "metadata": {
        "id": "GINLiSxaU9JI"
      },
      "source": [
        "# Start Spark session\n",
        "from pyspark.sql import SparkSession\n",
        "spark = SparkSession.builder.config(\"spark.executor.memory\", \"70g\").config(\"spark.driver.memory\", \"50g\").config(\"spark.memory.offHeap.enabled\",True).config(\"spark.memory.offHeap.size\",\"16g\").appName(\"Extract2\")\\\n",
        ".config(\"spark.jars\", \"/content/postgresql-42.2.19.jar\").getOrCreate()\n",
        "# Enable Arrow-based columnar data transfers\n",
        "spark.conf.set(\"park.sqls.execution.arrow.enabled\", \"true\")\n",
        "# Increase timeout values\n",
        "spark.conf.set(\"spark.sql.broadcastTimeout\", \"1000\")\n",
        "# disable the broadcasting\n",
        "spark.conf.set(\"spark.sql.autoBroadcastJoinThreshold\", \"-1\")"
      ],
      "execution_count": null,
      "outputs": []
    },
    {
      "cell_type": "markdown",
      "metadata": {
        "id": "BBESp1s-VE2r"
      },
      "source": [
        "# Load data from AWS RDS"
      ]
    },
    {
      "cell_type": "code",
      "metadata": {
        "colab": {
          "base_uri": "https://localhost:8080/"
        },
        "id": "8jEX3y9aU9LQ",
        "outputId": "896a87a0-bf8f-489e-9011-a6c0fe29d0be"
      },
      "source": [
        "from google.colab import drive\n",
        "drive.mount('/content/drive', force_remount=True)"
      ],
      "execution_count": null,
      "outputs": [
        {
          "output_type": "stream",
          "text": [
            "Mounted at /content/drive\n"
          ],
          "name": "stdout"
        }
      ]
    },
    {
      "cell_type": "code",
      "metadata": {
        "id": "P0D4jI9CU9Nf"
      },
      "source": [
        "# Insert the directory\n",
        "import sys\n",
        "sys.path.insert(0,'/content/drive/My Drive/Colab_Notebooks/Homework/')"
      ],
      "execution_count": null,
      "outputs": []
    },
    {
      "cell_type": "code",
      "metadata": {
        "id": "2u3dT31yU9Py"
      },
      "source": [
        "from config import server, database, port, username, password"
      ],
      "execution_count": null,
      "outputs": []
    },
    {
      "cell_type": "code",
      "metadata": {
        "colab": {
          "base_uri": "https://localhost:8080/"
        },
        "id": "CKn1zHZCU9SF",
        "outputId": "19bd436b-ca75-45c1-c1e2-3658d5e59169"
      },
      "source": [
        "# home imprvements\n",
        "df1 = spark.read.jdbc(url = f\"jdbc:postgresql://{server}:{port}/{database}\", \n",
        "                     table = \"(SELECT DISTINCT t2.star_rating, t2.helpful_votes, t2.total_votes, t2.vine, t1.verified_purchase\\\n",
        "                     FROM reviews AS t1 INNER JOIN vine_table AS t2 ON t1.review_id = t2.review_id\\\n",
        "                     AND t2.total_votes>=10 AND t2.helpful_votes/t2.total_votes >= 0.5 AND t2.batch_id =1) AS my_table\",\n",
        "                     properties={\"user\": f\"{username}\", \"password\": f\"{password}\", \"driver\": 'org.postgresql.Driver'})\n",
        "df1.count()"
      ],
      "execution_count": null,
      "outputs": [
        {
          "output_type": "execute_result",
          "data": {
            "text/plain": [
              "699"
            ]
          },
          "metadata": {
            "tags": []
          },
          "execution_count": 11
        }
      ]
    },
    {
      "cell_type": "code",
      "metadata": {
        "colab": {
          "base_uri": "https://localhost:8080/"
        },
        "id": "zm6Lq6RGU9UU",
        "outputId": "8f1a8b4f-b947-4480-a633-1cee33c26ce0"
      },
      "source": [
        "#  musical instruments\n",
        "df2 = spark.read.jdbc(url = f\"jdbc:postgresql://{server}:{port}/{database}\", \n",
        "                     table = \"(SELECT DISTINCT t2.star_rating, t2.helpful_votes, t2.total_votes, t2.vine, t1.verified_purchase\\\n",
        "                     FROM reviews AS t1 INNER JOIN vine_table AS t2 ON t1.review_id = t2.review_id\\\n",
        "                     AND t2.total_votes>=10 AND t2.helpful_votes/t2.total_votes >= 0.5 AND t2.batch_id =2) AS my_table\",\n",
        "                     properties={\"user\": f\"{username}\", \"password\": f\"{password}\", \"driver\": 'org.postgresql.Driver'})\n",
        "df2.count()"
      ],
      "execution_count": null,
      "outputs": [
        {
          "output_type": "execute_result",
          "data": {
            "text/plain": [
              "421"
            ]
          },
          "metadata": {
            "tags": []
          },
          "execution_count": 12
        }
      ]
    },
    {
      "cell_type": "code",
      "metadata": {
        "id": "LkVksTPNcXhM"
      },
      "source": [
        "df1.createOrReplaceTempView(\"table1\")\n",
        "df2.createOrReplaceTempView(\"table2\")"
      ],
      "execution_count": null,
      "outputs": []
    },
    {
      "cell_type": "code",
      "metadata": {
        "colab": {
          "base_uri": "https://localhost:8080/"
        },
        "id": "NYTCcrDsctsz",
        "outputId": "6dbacb1f-099c-4c6f-8d1d-87ba1d9d04e2"
      },
      "source": [
        "df = spark.sql(\"SELECT * from table1 UNION ALL SELECT * from table2\")\n",
        "df.show()"
      ],
      "execution_count": null,
      "outputs": [
        {
          "output_type": "stream",
          "text": [
            "+-----------+-------------+-----------+----+-----------------+\n",
            "|star_rating|helpful_votes|total_votes|vine|verified_purchase|\n",
            "+-----------+-------------+-----------+----+-----------------+\n",
            "|          3|           71|         71|   N|                Y|\n",
            "|          5|           66|         66|   N|                Y|\n",
            "|          5|           28|         28|   N|                N|\n",
            "|          5|           40|         40|   N|                Y|\n",
            "|          2|           37|         37|   N|                Y|\n",
            "|          1|           35|         35|   N|                N|\n",
            "|          4|           24|         24|   Y|                N|\n",
            "|          3|           34|         34|   N|                N|\n",
            "|          5|           98|         98|   N|                N|\n",
            "|          5|           32|         32|   N|                N|\n",
            "|          3|           21|         21|   Y|                N|\n",
            "|          3|           31|         31|   N|                Y|\n",
            "|          2|           33|         33|   N|                N|\n",
            "|          1|           79|         79|   N|                N|\n",
            "|          5|          136|        136|   N|                Y|\n",
            "|          4|           44|         44|   N|                Y|\n",
            "|          5|           22|         22|   N|                N|\n",
            "|          2|           20|         20|   N|                Y|\n",
            "|          1|           11|         11|   N|                Y|\n",
            "|          2|           35|         35|   N|                N|\n",
            "+-----------+-------------+-----------+----+-----------------+\n",
            "only showing top 20 rows\n",
            "\n"
          ],
          "name": "stdout"
        }
      ]
    },
    {
      "cell_type": "code",
      "metadata": {
        "id": "iFUfDmrPctzd"
      },
      "source": [
        "from pyspark.sql.functions import col, avg\n",
        "df_paid = df.filter(\"vine='Y'\")\n",
        "df_unpaid = df.filter(\"vine='N'\")"
      ],
      "execution_count": null,
      "outputs": []
    },
    {
      "cell_type": "code",
      "metadata": {
        "colab": {
          "base_uri": "https://localhost:8080/"
        },
        "id": "bjFrpHAJdS6t",
        "outputId": "1eda0d67-9a7f-4cd5-ed46-af5e5a6518f2"
      },
      "source": [
        "df_paid.describe().show()"
      ],
      "execution_count": null,
      "outputs": [
        {
          "output_type": "stream",
          "text": [
            "+-------+------------------+------------------+------------------+----+-----------------+\n",
            "|summary|       star_rating|     helpful_votes|       total_votes|vine|verified_purchase|\n",
            "+-------+------------------+------------------+------------------+----+-----------------+\n",
            "|  count|                53|                53|                53|  53|               53|\n",
            "|   mean| 4.056603773584905| 21.41509433962264| 21.41509433962264|null|             null|\n",
            "| stddev|1.1165726119146009|15.791226827022253|15.791226827022253|null|             null|\n",
            "|    min|                 1|                10|                10|   Y|                N|\n",
            "|    max|                 5|               106|               106|   Y|                Y|\n",
            "+-------+------------------+------------------+------------------+----+-----------------+\n",
            "\n"
          ],
          "name": "stdout"
        }
      ]
    },
    {
      "cell_type": "code",
      "metadata": {
        "colab": {
          "base_uri": "https://localhost:8080/"
        },
        "id": "5j-i9CYRdWni",
        "outputId": "33206d99-0928-4194-c541-cd377086fa89"
      },
      "source": [
        "df_unpaid.describe().show()"
      ],
      "execution_count": null,
      "outputs": [
        {
          "output_type": "stream",
          "text": [
            "+-------+------------------+------------------+------------------+----+-----------------+\n",
            "|summary|       star_rating|     helpful_votes|       total_votes|vine|verified_purchase|\n",
            "+-------+------------------+------------------+------------------+----+-----------------+\n",
            "|  count|              1067|              1067|              1067|1067|             1067|\n",
            "|   mean| 3.478912839737582| 47.33083411433927| 47.33083411433927|null|             null|\n",
            "| stddev|1.4373324321598508|35.014446436397016|35.014446436397016|null|             null|\n",
            "|    min|                 1|                10|                10|   N|                N|\n",
            "|    max|                 5|               318|               318|   N|                Y|\n",
            "+-------+------------------+------------------+------------------+----+-----------------+\n",
            "\n"
          ],
          "name": "stdout"
        }
      ]
    },
    {
      "cell_type": "code",
      "metadata": {
        "colab": {
          "base_uri": "https://localhost:8080/"
        },
        "id": "RSOhNv9tdWzu",
        "outputId": "a291810a-232a-4ee6-bdea-f70c0c137796"
      },
      "source": [
        "df_paid[df_paid['star_rating'] == 5].count()"
      ],
      "execution_count": null,
      "outputs": [
        {
          "output_type": "execute_result",
          "data": {
            "text/plain": [
              "23"
            ]
          },
          "metadata": {
            "tags": []
          },
          "execution_count": 18
        }
      ]
    },
    {
      "cell_type": "code",
      "metadata": {
        "colab": {
          "base_uri": "https://localhost:8080/"
        },
        "id": "FFhBoQNDdW1-",
        "outputId": "2b11be66-7a51-473c-ec63-bd382951a481"
      },
      "source": [
        "df_paid.count()"
      ],
      "execution_count": null,
      "outputs": [
        {
          "output_type": "execute_result",
          "data": {
            "text/plain": [
              "53"
            ]
          },
          "metadata": {
            "tags": []
          },
          "execution_count": 19
        }
      ]
    },
    {
      "cell_type": "code",
      "metadata": {
        "colab": {
          "base_uri": "https://localhost:8080/"
        },
        "id": "4iuZE-j9dmxF",
        "outputId": "e724b11b-a318-4275-8df2-8238452f6f5b"
      },
      "source": [
        "print(f\"Percentage of 5 star vine: {round(df_paid[df_paid['star_rating'] == 5].count()/df_paid.count()*100,3)}%\")"
      ],
      "execution_count": null,
      "outputs": [
        {
          "output_type": "stream",
          "text": [
            "Percentage of 5 star vine: 43.396%\n"
          ],
          "name": "stdout"
        }
      ]
    },
    {
      "cell_type": "code",
      "metadata": {
        "colab": {
          "base_uri": "https://localhost:8080/"
        },
        "id": "PxOBFGQsdmzd",
        "outputId": "ab16400c-5ab5-4c94-acbf-a700c1ff075b"
      },
      "source": [
        "df_unpaid[df_unpaid['star_rating'] == 5].count()"
      ],
      "execution_count": null,
      "outputs": [
        {
          "output_type": "execute_result",
          "data": {
            "text/plain": [
              "350"
            ]
          },
          "metadata": {
            "tags": []
          },
          "execution_count": 25
        }
      ]
    },
    {
      "cell_type": "code",
      "metadata": {
        "colab": {
          "base_uri": "https://localhost:8080/"
        },
        "id": "TJkfBQk7dW4K",
        "outputId": "7c0b09c1-f226-422a-c61e-e50b165df895"
      },
      "source": [
        "df_unpaid.count()"
      ],
      "execution_count": null,
      "outputs": [
        {
          "output_type": "execute_result",
          "data": {
            "text/plain": [
              "1067"
            ]
          },
          "metadata": {
            "tags": []
          },
          "execution_count": 26
        }
      ]
    },
    {
      "cell_type": "code",
      "metadata": {
        "colab": {
          "base_uri": "https://localhost:8080/"
        },
        "id": "eiwaRhtrdW6b",
        "outputId": "a8d70783-fa9c-4313-d64e-8e0d40db03e2"
      },
      "source": [
        "print(f\"Percentage of 5 star non-vine: {round(df_unpaid[df_unpaid['star_rating'] == 5].count()/df_unpaid.count()*100,3)}%\")"
      ],
      "execution_count": null,
      "outputs": [
        {
          "output_type": "stream",
          "text": [
            "Percentage of 5 star non-vine: 32.802%\n"
          ],
          "name": "stdout"
        }
      ]
    },
    {
      "cell_type": "markdown",
      "metadata": {
        "id": "81CMwPaqh1qa"
      },
      "source": [
        "## looking at product categories separately"
      ]
    },
    {
      "cell_type": "code",
      "metadata": {
        "colab": {
          "base_uri": "https://localhost:8080/"
        },
        "id": "SBume7IMgfYN",
        "outputId": "0a482831-6fe9-458c-da72-4c69d8222e05"
      },
      "source": [
        "# home improvement\n",
        "df1_paid = df1.filter(\"vine='Y'\")\n",
        "df1_unpaid = df1.filter(\"vine='N'\")\n",
        "print(f\"Count of 5 star Vines: {df1_paid[df1_paid['star_rating'] == 5].count()}\")\n",
        "print(f\"Count of 5 star Non-Vines: {df1_unpaid[df1_unpaid['star_rating'] == 5].count()}\")\n",
        "print(f\"Percentage of 5 star vine for home improvement products: {round(df1_paid[df1_paid['star_rating'] == 5].count()/df1_paid.count()*100,3)}%\")\n",
        "print(f\"Percentage of 5 star non-vine for home improvement products: {round(df1_unpaid[df1_unpaid['star_rating'] == 5].count()/df1_unpaid.count()*100,3)}%\")"
      ],
      "execution_count": null,
      "outputs": [
        {
          "output_type": "stream",
          "text": [
            "Count of 5 star Vines: 17\n",
            "Count of 5 star Non-Vines: 208\n",
            "Percentage of 5 star vine for home improvement products: 39.535%\n",
            "Percentage of 5 star non-vine for home improvement products: 31.707%\n"
          ],
          "name": "stdout"
        }
      ]
    },
    {
      "cell_type": "code",
      "metadata": {
        "colab": {
          "base_uri": "https://localhost:8080/"
        },
        "id": "QUL7vq9qhksv",
        "outputId": "e2dd5dbd-7e6f-49bb-b52d-14bd1df20a9f"
      },
      "source": [
        "spark.sql(\"SELECT vine, AVG(star_rating), STD(star_rating) from table1 GROUP BY vine\").show()"
      ],
      "execution_count": null,
      "outputs": [
        {
          "output_type": "stream",
          "text": [
            "+----+------------------+--------------------------------+\n",
            "|vine|  avg(star_rating)|std(CAST(star_rating AS DOUBLE))|\n",
            "+----+------------------+--------------------------------+\n",
            "|   Y|3.9302325581395348|              1.1831223588697772|\n",
            "|   N| 3.410060975609756|              1.4592132134760738|\n",
            "+----+------------------+--------------------------------+\n",
            "\n"
          ],
          "name": "stdout"
        }
      ]
    },
    {
      "cell_type": "code",
      "metadata": {
        "colab": {
          "base_uri": "https://localhost:8080/"
        },
        "id": "3wsPuop8gfam",
        "outputId": "5db97a4e-8c49-42fb-c5c7-8e144874db5a"
      },
      "source": [
        "# musical instrument\n",
        "df2_paid = df2.filter(\"vine='Y'\")\n",
        "df2_unpaid = df2.filter(\"vine='N'\")\n",
        "print(f\"Count of 5 star Vines: {df2_paid[df2_paid['star_rating'] == 5].count()}\")\n",
        "print(f\"Count of 5 star Non-Vines: {df2_unpaid[df2_unpaid['star_rating'] == 5].count()}\")\n",
        "print(f\"Percentage of 5 star vine for home improvement products: {round(df2_paid[df2_paid['star_rating'] == 5].count()/df2_paid.count()*100,3)}%\")\n",
        "print(f\"Percentage of 5 star non-vine for home improvement products: {round(df2_unpaid[df2_unpaid['star_rating'] == 5].count()/df2_unpaid.count()*100,3)}%\")"
      ],
      "execution_count": null,
      "outputs": [
        {
          "output_type": "stream",
          "text": [
            "Count of 5 star Vines: 6\n",
            "Count of 5 star Non-Vines: 142\n",
            "Percentage of 5 star vine for home improvement products: 60.0%\n",
            "Percentage of 5 star non-vine for home improvement products: 34.55%\n"
          ],
          "name": "stdout"
        }
      ]
    },
    {
      "cell_type": "code",
      "metadata": {
        "colab": {
          "base_uri": "https://localhost:8080/"
        },
        "id": "O3yReOI9gfc6",
        "outputId": "992bce08-3c07-484d-d152-bebaa5c63966"
      },
      "source": [
        "spark.sql(\"SELECT vine, AVG(star_rating), STD(star_rating) from table2 GROUP BY vine\").show()"
      ],
      "execution_count": null,
      "outputs": [
        {
          "output_type": "stream",
          "text": [
            "+----+-----------------+--------------------------------+\n",
            "|vine| avg(star_rating)|std(CAST(star_rating AS DOUBLE))|\n",
            "+----+-----------------+--------------------------------+\n",
            "|   Y|              4.6|              0.5163977794943222|\n",
            "|   N|3.588807785888078|              1.3964314413105627|\n",
            "+----+-----------------+--------------------------------+\n",
            "\n"
          ],
          "name": "stdout"
        }
      ]
    },
    {
      "cell_type": "markdown",
      "metadata": {
        "id": "dMyjDYxqethJ"
      },
      "source": [
        "# Conclusion\n",
        "\n",
        "* We can see that the percentage of 5-star reviews in Vine is not close to non-Vine reviews (43.396% to 32.802%). Which means that vine reviews are biased not accurate.\n",
        "\n",
        "* Although the number of Vine reviews is pretty low, so far it can still represent the product. However, the average rating from Vine customers is 4.05  with std deviation of 1.12, whereas the average rating from Vine customers is 3.48 with sdtd deviation of 1.44.\n",
        "\n",
        "* The average rating for vines varies from category to category. For example, average rating for musical instruments is way higher than home improvement products. So be careful when purchasing musical instruments as the vine reviews might skew your view. \n",
        "\n",
        "* I believe the Vine customers tend to give higher ratings and pretty focusing on the higher ratings too. So reviews from Vine customers are not that trustworthy for me."
      ]
    }
  ]
}