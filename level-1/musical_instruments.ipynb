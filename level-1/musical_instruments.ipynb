{
  "nbformat": 4,
  "nbformat_minor": 0,
  "metadata": {
    "colab": {
      "name": "musical_instruments.ipynb",
      "provenance": [],
      "collapsed_sections": []
    },
    "kernelspec": {
      "name": "python3",
      "display_name": "Python 3"
    },
    "language_info": {
      "name": "python"
    }
  },
  "cells": [
    {
      "cell_type": "code",
      "metadata": {
        "colab": {
          "base_uri": "https://localhost:8080/"
        },
        "id": "LJDzcukh8V3l",
        "outputId": "5997e3c6-60ce-44c6-f9d6-52db1cf05b93"
      },
      "source": [
        "import os\n",
        "# Find the latest version of spark 3.0  from http://www-us.apache.org/dist/spark/ and enter as the spark version\n",
        "# For example:\n",
        "# spark_version = 'spark-3.0.2'\n",
        "spark_version = 'spark-3.1.1'\n",
        "os.environ['SPARK_VERSION']=spark_version\n",
        "\n",
        "# Install Spark and Java\n",
        "!apt-get update\n",
        "!apt-get install openjdk-11-jdk-headless -qq > /dev/null\n",
        "!wget -q http://www-us.apache.org/dist/spark/$SPARK_VERSION/$SPARK_VERSION-bin-hadoop2.7.tgz\n",
        "!wget -q https://jdbc.postgresql.org/download/postgresql-42.2.19.jar\n",
        "!tar xf $SPARK_VERSION-bin-hadoop2.7.tgz\n",
        "!pip install -q findspark\n",
        "\n",
        "# Set Environment Variables\n",
        "os.environ[\"JAVA_HOME\"] = \"/usr/lib/jvm/java-11-openjdk-amd64\"\n",
        "os.environ[\"SPARK_HOME\"] = f\"/content/{spark_version}-bin-hadoop2.7\"\n",
        "os.environ[\"SPARK_CLASSPATH\"] = f\"/content/postgresql-42.2.19.jar\"\n",
        "\n",
        "# Start a SparkSession\n",
        "import findspark\n",
        "findspark.init()"
      ],
      "execution_count": null,
      "outputs": [
        {
          "output_type": "stream",
          "text": [
            "\r0% [Working]\r            \rGet:1 https://cloud.r-project.org/bin/linux/ubuntu bionic-cran40/ InRelease [3,626 B]\n",
            "\r0% [Waiting for headers] [Waiting for headers] [1 InRelease 0 B/3,626 B 0%] [Wa\r0% [Waiting for headers] [Waiting for headers] [Waiting for headers] [Waiting f\r                                                                               \rIgn:2 https://developer.download.nvidia.com/compute/cuda/repos/ubuntu1804/x86_64  InRelease\n",
            "\r0% [Waiting for headers] [Waiting for headers] [Waiting for headers] [Waiting f\r0% [1 InRelease gpgv 3,626 B] [Waiting for headers] [Waiting for headers] [Wait\r                                                                               \rGet:3 http://security.ubuntu.com/ubuntu bionic-security InRelease [88.7 kB]\n",
            "\r0% [1 InRelease gpgv 3,626 B] [Waiting for headers] [3 InRelease 2,586 B/88.7 k\r                                                                               \rGet:4 http://ppa.launchpad.net/c2d4u.team/c2d4u4.0+/ubuntu bionic InRelease [15.9 kB]\n",
            "\r0% [1 InRelease gpgv 3,626 B] [Waiting for headers] [3 InRelease 2,586 B/88.7 k\r                                                                               \rHit:5 http://archive.ubuntu.com/ubuntu bionic InRelease\n",
            "\r0% [1 InRelease gpgv 3,626 B] [Waiting for headers] [3 InRelease 14.2 kB/88.7 k\r                                                                               \rIgn:6 https://developer.download.nvidia.com/compute/machine-learning/repos/ubuntu1804/x86_64  InRelease\n",
            "\r0% [1 InRelease gpgv 3,626 B] [Waiting for headers] [3 InRelease 14.2 kB/88.7 k\r                                                                               \rHit:7 https://developer.download.nvidia.com/compute/cuda/repos/ubuntu1804/x86_64  Release\n",
            "Hit:8 https://developer.download.nvidia.com/compute/machine-learning/repos/ubuntu1804/x86_64  Release\n",
            "Get:9 http://archive.ubuntu.com/ubuntu bionic-updates InRelease [88.7 kB]\n",
            "Hit:10 http://ppa.launchpad.net/cran/libgit2/ubuntu bionic InRelease\n",
            "Get:11 http://archive.ubuntu.com/ubuntu bionic-backports InRelease [74.6 kB]\n",
            "Get:12 http://ppa.launchpad.net/deadsnakes/ppa/ubuntu bionic InRelease [15.9 kB]\n",
            "Hit:13 http://ppa.launchpad.net/graphics-drivers/ppa/ubuntu bionic InRelease\n",
            "Get:16 http://ppa.launchpad.net/c2d4u.team/c2d4u4.0+/ubuntu bionic/main Sources [1,751 kB]\n",
            "Get:17 http://security.ubuntu.com/ubuntu bionic-security/restricted amd64 Packages [372 kB]\n",
            "Get:18 http://security.ubuntu.com/ubuntu bionic-security/universe amd64 Packages [1,404 kB]\n",
            "Get:19 http://archive.ubuntu.com/ubuntu bionic-updates/universe amd64 Packages [2,175 kB]\n",
            "Get:20 http://security.ubuntu.com/ubuntu bionic-security/main amd64 Packages [2,077 kB]\n",
            "Get:21 http://ppa.launchpad.net/c2d4u.team/c2d4u4.0+/ubuntu bionic/main amd64 Packages [896 kB]\n",
            "Get:22 http://archive.ubuntu.com/ubuntu bionic-updates/restricted amd64 Packages [402 kB]\n",
            "Get:23 http://archive.ubuntu.com/ubuntu bionic-updates/main amd64 Packages [2,508 kB]\n",
            "Get:24 http://ppa.launchpad.net/deadsnakes/ppa/ubuntu bionic/main amd64 Packages [39.5 kB]\n",
            "Fetched 11.9 MB in 4s (3,313 kB/s)\n",
            "Reading package lists... Done\n"
          ],
          "name": "stdout"
        }
      ]
    },
    {
      "cell_type": "code",
      "metadata": {
        "id": "KbX-cokJ8uAn"
      },
      "source": [
        "# Start Spark session\n",
        "from pyspark.sql import SparkSession\n",
        "spark = SparkSession.builder.config(\"spark.executor.memory\", \"70g\").config(\"spark.driver.memory\", \"50g\").config(\"spark.memory.offHeap.enabled\",True).config(\"spark.memory.offHeap.size\",\"16g\").appName(\"Extract2\")\\\n",
        ".config(\"spark.jars\", \"/content/postgresql-42.2.19.jar\").getOrCreate()\n",
        "# Enable Arrow-based columnar data transfers\n",
        "spark.conf.set(\"park.sqls.execution.arrow.enabled\", \"true\")\n",
        "# Increase timeout values\n",
        "spark.conf.set(\"spark.sql.broadcastTimeout\", \"1000\")\n",
        "# disable the broadcasting\n",
        "spark.conf.set(\"spark.sql.autoBroadcastJoinThreshold\", \"-1\")"
      ],
      "execution_count": null,
      "outputs": []
    },
    {
      "cell_type": "code",
      "metadata": {
        "colab": {
          "base_uri": "https://localhost:8080/"
        },
        "id": "Z0e0AWTe85oA",
        "outputId": "d68e86fc-867c-4436-e652-4674b88e26be"
      },
      "source": [
        "url = \"https://s3.amazonaws.com/amazon-reviews-pds/tsv/amazon_reviews_us_Musical_Instruments_v1_00.tsv.gz\"\n",
        "from pyspark.sql.functions import col, lit\n",
        "from pyspark import SparkFiles\n",
        "spark.sparkContext.addFile(url)\n",
        "spark_df = spark.read.csv(SparkFiles.get(\"amazon_reviews_us_Musical_Instruments_v1_00.tsv.gz\"), sep=\"\\t\", header=True)\n",
        "spark_df = spark_df.withColumn(\"review_date\",col(\"review_date\").cast(\"date\"))\n",
        "spark_df = spark_df.withColumn(\"star_rating\",col(\"star_rating\").cast(\"int\"))\n",
        "spark_df = spark_df.withColumn(\"helpful_votes\",col(\"helpful_votes\").cast(\"int\"))\n",
        "spark_df = spark_df.withColumn(\"total_votes\",col(\"total_votes\").cast(\"int\"))\n",
        "spark_df = spark_df.na.drop(\"any\")\n",
        "spark_df.show()"
      ],
      "execution_count": null,
      "outputs": [
        {
          "output_type": "stream",
          "text": [
            "+-----------+-----------+--------------+----------+--------------+--------------------+-------------------+-----------+-------------+-----------+----+-----------------+--------------------+--------------------+-----------+\n",
            "|marketplace|customer_id|     review_id|product_id|product_parent|       product_title|   product_category|star_rating|helpful_votes|total_votes|vine|verified_purchase|     review_headline|         review_body|review_date|\n",
            "+-----------+-----------+--------------+----------+--------------+--------------------+-------------------+-----------+-------------+-----------+----+-----------------+--------------------+--------------------+-----------+\n",
            "|         US|   45610553| RMDCHWD0Y5OZ9|B00HH62VB6|     618218723|AGPtek® 10 Isolat...|Musical Instruments|          3|            0|          1|   N|                N|         Three Stars|Works very good, ...| 2015-08-31|\n",
            "|         US|   14640079| RZSL0BALIYUNU|B003LRN53I|     986692292|Sennheiser HD203 ...|Musical Instruments|          5|            0|          0|   N|                Y|          Five Stars|Nice headphones a...| 2015-08-31|\n",
            "|         US|    6111003| RIZR67JKUDBI0|B0006VMBHI|     603261968|AudioQuest LP rec...|Musical Instruments|          3|            0|          1|   N|                Y|         Three Stars|removes dust. doe...| 2015-08-31|\n",
            "|         US|    1546619|R27HL570VNL85F|B002B55TRG|     575084461|Hohner Inc. 560BX...|Musical Instruments|          5|            0|          0|   N|                Y|I purchase these ...|I purchase these ...| 2015-08-31|\n",
            "|         US|   12222213|R34EBU9QDWJ1GD|B00N1YPXW2|     165236328|Blue Yeti USB Mic...|Musical Instruments|          5|            0|          0|   N|                Y|          Five Stars|This is an awesom...| 2015-08-31|\n",
            "|         US|   46018513|R1WCUI4Z1SIQEO|B001N4GRGS|     134151483|Middle Atlantic P...|Musical Instruments|          5|            0|          0|   N|                N|          Five Stars|Used to cool equi...| 2015-08-31|\n",
            "|         US|   10225065| RL5LNO26GAVJ1|B009PJRMHQ|     694166585|Kmise 1pc Pickgua...|Musical Instruments|          2|            3|          4|   N|                Y|Will not Fit Epip...|Note- Does not Fi...| 2015-08-31|\n",
            "|         US|    6356995|R3GYQ5W8JHP8SB|B00NKBDAZS|     446431775|Kealoha Concert U...|Musical Instruments|          5|            0|          0|   N|                Y|          Five Stars|Well built Ukulel...| 2015-08-31|\n",
            "|         US|   35297198|R30SHYQXGG5EYC|B006MIU7U2|     125871705|Halco 80000 - MR1...|Musical Instruments|          5|            0|          0|   N|                Y|Works fine. Hope ...|Had to replace a ...| 2015-08-31|\n",
            "|         US|   32139520|R14YLXA56NP51I|B000FIBD0I|     771888534|Gator GPTBLACK Pl...|Musical Instruments|          5|            1|          1|   N|                N|I upgraded the po...|I've owned multip...| 2015-08-31|\n",
            "|         US|   36060782|R1ZH0HSH38IOTZ|B0002E52GG|      68535945|Hetman 1 - Light ...|Musical Instruments|          5|            0|          0|   N|                Y|My son's favourit...|Consistent qualit...| 2015-08-31|\n",
            "|         US|    5301309|R3H53KLLC210XI|B00RZIH52G|     725541773|Dragonpad pop fil...|Musical Instruments|          4|            0|          0|   N|                Y|Great pop filter ...|by far the best p...| 2015-08-31|\n",
            "|         US|   37472935|R3OOR877NGA8JK|B001792BAU|      46570323|DharmaObjects Rel...|Musical Instruments|          3|            0|          0|   N|                Y|                  Ok|Beautiful set. On...| 2015-08-31|\n",
            "|         US|   33578270|R1BY7WKOZ3KMH0|B009GSKW1Y|     547963417|Musiclily SSS Pla...|Musical Instruments|          2|            0|          0|   N|                Y|           Two Stars|Bridge pickup was...| 2015-08-31|\n",
            "|         US|   22070226| RXP1TFSWE8EG9|B0002F4TKA|     436074323|Vic Firth America...|Musical Instruments|          5|            0|          0|   N|                Y|          Five Stars|Feels good and la...| 2015-08-31|\n",
            "|         US|   52862655|R3J44DPP12OTLJ|B00K17YFBW|      81933093|Guitar Stand for ...|Musical Instruments|          5|            0|          0|   N|                Y|Great stand... on...|I love the stand....| 2015-08-31|\n",
            "|         US|    4427243| RFOV69SK0T676|B00EQ24HJS|     669249276|Generic 3PLY Faux...|Musical Instruments|          5|            0|          0|   N|                Y|Looks great. You ...|On time. Looks gr...| 2015-08-31|\n",
            "|         US|   14108571|R2HUWDNW62FOL3|B00IBOYTUE|     749537231|Audio 2000 6525 3...|Musical Instruments|          1|            0|          0|   N|                Y|  Poor sound quality|I was hoping it w...| 2015-08-31|\n",
            "|         US|   27314089|R1KSU30XZGR452|B00FBRUSAE|     792472601|Sawtooth ST-AMP-1...|Musical Instruments|          5|            0|          0|   N|                Y|Perfect for the b...|Good sound for it...| 2015-08-31|\n",
            "|         US|   16735445|R2TZVLLTSHA07N|B0113D2QUO|     269114019|Upado Unlimited G...|Musical Instruments|          5|            1|          1|   N|                Y|It really is a mu...|Wow! I didn't exp...| 2015-08-31|\n",
            "+-----------+-----------+--------------+----------+--------------+--------------------+-------------------+-----------+-------------+-----------+----+-----------------+--------------------+--------------------+-----------+\n",
            "only showing top 20 rows\n",
            "\n"
          ],
          "name": "stdout"
        }
      ]
    },
    {
      "cell_type": "code",
      "metadata": {
        "colab": {
          "base_uri": "https://localhost:8080/"
        },
        "id": "Bdxx5I2MQggB",
        "outputId": "4e9af456-ef04-4e95-d1d1-f436e8c34acd"
      },
      "source": [
        "spark_df.printSchema()"
      ],
      "execution_count": null,
      "outputs": [
        {
          "output_type": "stream",
          "text": [
            "root\n",
            " |-- marketplace: string (nullable = true)\n",
            " |-- customer_id: string (nullable = true)\n",
            " |-- review_id: string (nullable = true)\n",
            " |-- product_id: string (nullable = true)\n",
            " |-- product_parent: string (nullable = true)\n",
            " |-- product_title: string (nullable = true)\n",
            " |-- product_category: string (nullable = true)\n",
            " |-- star_rating: integer (nullable = true)\n",
            " |-- helpful_votes: integer (nullable = true)\n",
            " |-- total_votes: integer (nullable = true)\n",
            " |-- vine: string (nullable = true)\n",
            " |-- verified_purchase: string (nullable = true)\n",
            " |-- review_headline: string (nullable = true)\n",
            " |-- review_body: string (nullable = true)\n",
            " |-- review_date: date (nullable = true)\n",
            "\n"
          ],
          "name": "stdout"
        }
      ]
    },
    {
      "cell_type": "code",
      "metadata": {
        "colab": {
          "base_uri": "https://localhost:8080/"
        },
        "id": "X5OPZFgY85xv",
        "outputId": "04aae0e0-924e-49f9-b306-581aa5dbcda8"
      },
      "source": [
        "# Outputting the number of rows\n",
        "spark_df.count()"
      ],
      "execution_count": null,
      "outputs": [
        {
          "output_type": "execute_result",
          "data": {
            "text/plain": [
              "904663"
            ]
          },
          "metadata": {
            "tags": []
          },
          "execution_count": 6
        }
      ]
    },
    {
      "cell_type": "code",
      "metadata": {
        "colab": {
          "base_uri": "https://localhost:8080/"
        },
        "id": "SWeMRblC85z9",
        "outputId": "bf5f9eaf-d120-4f87-f202-209d860dc289"
      },
      "source": [
        "# Removed duplicate rows\n",
        "spark_df = spark_df.dropDuplicates()\n",
        "spark_df.count()"
      ],
      "execution_count": null,
      "outputs": [
        {
          "output_type": "execute_result",
          "data": {
            "text/plain": [
              "904663"
            ]
          },
          "metadata": {
            "tags": []
          },
          "execution_count": 7
        }
      ]
    },
    {
      "cell_type": "markdown",
      "metadata": {
        "id": "4hIWAEID-H8q"
      },
      "source": [
        "# Transform dataframes to fit the schema "
      ]
    },
    {
      "cell_type": "code",
      "metadata": {
        "colab": {
          "base_uri": "https://localhost:8080/"
        },
        "id": "7bqPoQUW9bmK",
        "outputId": "3920ec33-8b4d-42b6-8a9f-dfacde13fc83"
      },
      "source": [
        "# Keep and rename necessary columns for Review ID table\n",
        "review_id_df = spark_df.select([\"review_id\", \"customer_id\", \"product_id\", \"product_parent\", \"review_date\"])\n",
        "review_id_df = review_id_df.withColumn('batch_id',lit(2))\n",
        "review_id_df.show()"
      ],
      "execution_count": null,
      "outputs": [
        {
          "output_type": "stream",
          "text": [
            "+--------------+-----------+----------+--------------+-----------+--------+\n",
            "|     review_id|customer_id|product_id|product_parent|review_date|batch_id|\n",
            "+--------------+-----------+----------+--------------+-----------+--------+\n",
            "| RJAJML3BPHJW1|   47628330|B00B981XQC|     207269976| 2015-08-31|       2|\n",
            "|R1B82PWGID1EA8|   12641855|B000EEL6LY|     678026488| 2015-08-31|       2|\n",
            "|R25ZFQ35EW7IXO|    1988775|B0002CZV7I|     687252828| 2015-08-31|       2|\n",
            "|R3KS3IDXEK68T6|   16149682|B004XNK7AI|     486980785| 2015-08-31|       2|\n",
            "|R1VKRR7XSK5SKW|   19681020|B004PAWJDM|     395396084| 2015-08-31|       2|\n",
            "| RS02E08LSFRFW|   44928285|B00178SNZS|     806365617| 2015-08-31|       2|\n",
            "|R3EDFV16NVBQ5P|   50161886|B00EO4A7L0|     789342770| 2015-08-30|       2|\n",
            "| R3CP22ACPQIHV|   12744882|B0002GX7ZM|     477030445| 2015-08-30|       2|\n",
            "| R7I7M18YAKMV7|   18067281|B003FRMRC4|     313130939| 2015-08-30|       2|\n",
            "| ROI1P4F99XHVC|   13518155|B001677QO4|     995106205| 2015-08-30|       2|\n",
            "| RF9SWVPSR80M1|   22723745|B000A8J3N2|     240970230| 2015-08-29|       2|\n",
            "|R1GCQNEKUHYMS7|   16921272|B002Z9JWZS|     911174852| 2015-08-29|       2|\n",
            "|R2PA2HAUIP9RDT|    3550827|B0002E2AHA|     908301612| 2015-08-29|       2|\n",
            "|R1MENA6E832RPT|     130186|B00ESFHEXY|     506149345| 2015-08-29|       2|\n",
            "|R2AHRI16BWY0ZK|   14199440|B00G8JRANM|     780650738| 2015-08-29|       2|\n",
            "|R1LUYQVZT5ITDU|   44635866|B004XNK7AI|     486980785| 2015-08-29|       2|\n",
            "| R44AKI4KK1G6I|     652348|B005VLWHP4|     386528698| 2015-08-28|       2|\n",
            "|R104E1IFINZRCZ|   38409053|B00YRKPB3K|     219663516| 2015-08-28|       2|\n",
            "|R375GXEN9DGIUC|   37631709|B0002E1NSW|     477116866| 2015-08-28|       2|\n",
            "|R25CH0LM8K0M2F|   50863941|B00DNGZ4CM|     983391659| 2015-08-28|       2|\n",
            "+--------------+-----------+----------+--------------+-----------+--------+\n",
            "only showing top 20 rows\n",
            "\n"
          ],
          "name": "stdout"
        }
      ]
    },
    {
      "cell_type": "code",
      "metadata": {
        "colab": {
          "base_uri": "https://localhost:8080/"
        },
        "id": "Oaaoxdgu9bov",
        "outputId": "5fcb816a-8ed5-4567-c968-49ec571981f5"
      },
      "source": [
        "# For Products table\n",
        "products_df = spark_df.select([\"product_id\", \"product_title\", \"product_category\"])\n",
        "products_df = products_df.dropDuplicates([\"product_id\"])\n",
        "products_df = products_df.dropDuplicates()\n",
        "products_df = products_df.withColumn('batch_id',lit(2))\n",
        "products_df.show()"
      ],
      "execution_count": null,
      "outputs": [
        {
          "output_type": "stream",
          "text": [
            "+----------+--------------------+-------------------+--------+\n",
            "|product_id|       product_title|   product_category|batch_id|\n",
            "+----------+--------------------+-------------------+--------+\n",
            "|B000078JQ0|M-Audio Portable ...|Musical Instruments|       2|\n",
            "|B0000C8CFP|Gemini CDJ 15X TO...|Musical Instruments|       2|\n",
            "|B0002CZTIE|Gator 88 Note Key...|Musical Instruments|       2|\n",
            "|B0002D02NA|Protec CTG234 Ele...|Musical Instruments|       2|\n",
            "|B0002D03EI|Traveler Guitar O...|Musical Instruments|       2|\n",
            "|B0002D049M|Wireless Solution...|Musical Instruments|       2|\n",
            "|B0002D04B0|Zildjian A Custom...|Musical Instruments|       2|\n",
            "|B0002D064U|Seymour Duncan - ...|Musical Instruments|       2|\n",
            "|B0002D0DVG|Evans RGS Pad Bas...|Musical Instruments|       2|\n",
            "|B0002D0GBS|Zildjian ZXT 10-I...|Musical Instruments|       2|\n",
            "|B0002D0LRC|Gibson Gear PPAT-...|Musical Instruments|       2|\n",
            "|B0002D0PJ6|Clayton Picks Bla...|Musical Instruments|       2|\n",
            "|B0002DUS2A|Fender Stainless ...|Musical Instruments|       2|\n",
            "|B0002DVBBW|Odyssey C45200 Ca...|Musical Instruments|       2|\n",
            "|B0002DYB9Q|Pearl D050 Tensio...|Musical Instruments|       2|\n",
            "|B0002E1HG0|Schecter Stiletto...|Musical Instruments|       2|\n",
            "|B0002E1P5I|Savarez 520P1 Tra...|Musical Instruments|       2|\n",
            "|B0002E2G92|Sabian 18 Inch HH...|Musical Instruments|       2|\n",
            "|B0002E2TH6|Aquarian Drumhead...|Musical Instruments|       2|\n",
            "|B0002E3D5S|DiMarzio DP123-CR...|Musical Instruments|       2|\n",
            "+----------+--------------------+-------------------+--------+\n",
            "only showing top 20 rows\n",
            "\n"
          ],
          "name": "stdout"
        }
      ]
    },
    {
      "cell_type": "code",
      "metadata": {
        "colab": {
          "base_uri": "https://localhost:8080/"
        },
        "id": "KUSfRJun9brG",
        "outputId": "f1c98552-bb31-48f4-d1bb-4c798db37cf4"
      },
      "source": [
        "# For Customers table\n",
        "customers_df = spark_df.groupby(\"customer_id\").agg({\n",
        "    \"customer_id\": \"count\"\n",
        "    }).withColumnRenamed(\"count(customer_id)\", \"customer_count\")\n",
        "customers_df = customers_df.withColumn('batch_id',lit(2))\n",
        "customers_df.show()"
      ],
      "execution_count": null,
      "outputs": [
        {
          "output_type": "stream",
          "text": [
            "+-----------+--------------+--------+\n",
            "|customer_id|customer_count|batch_id|\n",
            "+-----------+--------------+--------+\n",
            "|   13282123|             3|       2|\n",
            "|   16604143|             1|       2|\n",
            "|   37485313|            13|       2|\n",
            "|   20516380|             7|       2|\n",
            "|    7382856|             1|       2|\n",
            "|   48803349|             1|       2|\n",
            "|    2082754|             1|       2|\n",
            "|   37546075|            32|       2|\n",
            "|   21073511|             1|       2|\n",
            "|   26541525|             6|       2|\n",
            "|   11270814|             1|       2|\n",
            "|   13022232|             2|       2|\n",
            "|   35465802|             1|       2|\n",
            "|   20943978|             6|       2|\n",
            "|   32347749|             5|       2|\n",
            "|   26794699|             1|       2|\n",
            "|   49956082|            14|       2|\n",
            "|   17561156|             2|       2|\n",
            "|   46998862|             1|       2|\n",
            "|   51560727|             1|       2|\n",
            "+-----------+--------------+--------+\n",
            "only showing top 20 rows\n",
            "\n"
          ],
          "name": "stdout"
        }
      ]
    },
    {
      "cell_type": "code",
      "metadata": {
        "colab": {
          "base_uri": "https://localhost:8080/"
        },
        "id": "G2AN6mnN9btR",
        "outputId": "764e3d06-9e4e-4e53-9ff7-7fdab4c30b9a"
      },
      "source": [
        "# For Review table\n",
        "reviews_df = spark_df.select([\"review_id\", \"verified_purchase\", \"review_headline\", \"review_body\"])\n",
        "reviews_df = reviews_df.dropDuplicates()\n",
        "reviews_df = reviews_df.withColumn('batch_id',lit(2))\n",
        "reviews_df.show()"
      ],
      "execution_count": null,
      "outputs": [
        {
          "output_type": "stream",
          "text": [
            "+--------------+-----------------+--------------------+--------------------+--------+\n",
            "|     review_id|verified_purchase|     review_headline|         review_body|batch_id|\n",
            "+--------------+-----------------+--------------------+--------------------+--------+\n",
            "| RVDQ2JXRGP2OK|                Y|          Five Stars|I'm very happy wi...|       2|\n",
            "|R2I3XUICPJ41US|                Y|Definitely worth it!|Great value! I ha...|       2|\n",
            "|R11F02GBH7WDV7|                Y|Awesome bass - wo...|Love my Fender ba...|       2|\n",
            "|R17U3Y9X16SURO|                Y| Wonderfully useful!|Wonderfully usefu...|       2|\n",
            "|R3N7TSN3U7DAJD|                Y|          Five Stars|Well made and com...|       2|\n",
            "| RZN00RE92E9W4|                Y|Excellent for hea...|Excellent picks f...|       2|\n",
            "|R1RKEFDQO16XYT|                Y|          Five Stars|Grandson loves this.|       2|\n",
            "|R3S07F2O4LVV4R|                Y|Is this some sort...|Is this some sort...|       2|\n",
            "|R117WJPKTFRUYL|                Y|holds your guitar...|If you're over 6'...|       2|\n",
            "|R1DOU75SSVE7PJ|                Y|  Love these sticks!|These are a littl...|       2|\n",
            "|R2CW8XU1I6QTYK|                Y|but still a waste...|The zipper broke ...|       2|\n",
            "| R76C2FB7Y6XRY|                Y|Very high quality...|We bought this as...|       2|\n",
            "| R1LDQW39CHINQ|                Y|Tone and projecti...|Guitar is easy to...|       2|\n",
            "|R1PGZC81G9DX6G|                Y|            Love it.|This is a replace...|       2|\n",
            "|R2NMOK30U6LB9U|                Y|           Loose Fit|I really like the...|       2|\n",
            "|R1SKH8F6KCCGL4|                Y|Awesome Light for...|These lights are ...|       2|\n",
            "|R2BOO8LOPXP10K|                Y|Nice guitar cable...|I bought this bec...|       2|\n",
            "|R23WVXOBHHT9AF|                N|Marching Band Member|I really enjoyed ...|       2|\n",
            "|R1QVKW5YBWATXY|                Y|... a MIM Strat t...|Installed in the ...|       2|\n",
            "|R2C8XD2P9O5GPB|                Y|On/off switch fel...|Picks up sound we...|       2|\n",
            "+--------------+-----------------+--------------------+--------------------+--------+\n",
            "only showing top 20 rows\n",
            "\n"
          ],
          "name": "stdout"
        }
      ]
    },
    {
      "cell_type": "code",
      "metadata": {
        "colab": {
          "base_uri": "https://localhost:8080/"
        },
        "id": "v6sT-juS852f",
        "outputId": "fc487780-4366-4ba5-c2ce-e39c0cf63efa"
      },
      "source": [
        "# For Vine table\n",
        "vine_df = spark_df.select([\"review_id\", \"star_rating\", \"helpful_votes\", \"total_votes\", \"vine\"])\n",
        "vine_df = vine_df.withColumn('batch_id',lit(2))\n",
        "vine_df.show()"
      ],
      "execution_count": null,
      "outputs": [
        {
          "output_type": "stream",
          "text": [
            "+--------------+-----------+-------------+-----------+----+--------+\n",
            "|     review_id|star_rating|helpful_votes|total_votes|vine|batch_id|\n",
            "+--------------+-----------+-------------+-----------+----+--------+\n",
            "| RJAJML3BPHJW1|          5|            0|          1|   N|       2|\n",
            "|R1B82PWGID1EA8|          5|            0|          0|   N|       2|\n",
            "|R25ZFQ35EW7IXO|          3|            0|          2|   N|       2|\n",
            "|R3KS3IDXEK68T6|          5|            0|          0|   N|       2|\n",
            "|R1VKRR7XSK5SKW|          1|            0|          0|   N|       2|\n",
            "| RS02E08LSFRFW|          5|            0|          0|   N|       2|\n",
            "|R3EDFV16NVBQ5P|          5|            0|          0|   N|       2|\n",
            "| R3CP22ACPQIHV|          5|            0|          0|   N|       2|\n",
            "| R7I7M18YAKMV7|          5|            0|          0|   N|       2|\n",
            "| ROI1P4F99XHVC|          4|            0|          0|   N|       2|\n",
            "| RF9SWVPSR80M1|          4|            0|          0|   N|       2|\n",
            "|R1GCQNEKUHYMS7|          5|            1|          1|   N|       2|\n",
            "|R2PA2HAUIP9RDT|          5|            0|          0|   N|       2|\n",
            "|R1MENA6E832RPT|          3|            3|          6|   N|       2|\n",
            "|R2AHRI16BWY0ZK|          5|            0|          0|   N|       2|\n",
            "|R1LUYQVZT5ITDU|          5|            0|          0|   N|       2|\n",
            "| R44AKI4KK1G6I|          5|            0|          0|   N|       2|\n",
            "|R104E1IFINZRCZ|          5|            1|          2|   Y|       2|\n",
            "|R375GXEN9DGIUC|          5|            0|          0|   N|       2|\n",
            "|R25CH0LM8K0M2F|          5|            0|          0|   N|       2|\n",
            "+--------------+-----------+-------------+-----------+----+--------+\n",
            "only showing top 20 rows\n",
            "\n"
          ],
          "name": "stdout"
        }
      ]
    },
    {
      "cell_type": "markdown",
      "metadata": {
        "id": "n6PzFzGU-WUe"
      },
      "source": [
        "# Load data to AWS RDS"
      ]
    },
    {
      "cell_type": "code",
      "metadata": {
        "colab": {
          "base_uri": "https://localhost:8080/"
        },
        "id": "Eb1s_4xLLQrM",
        "outputId": "d63f3dde-0d51-40c2-c27d-93466219f91c"
      },
      "source": [
        "from google.colab import drive\n",
        "drive.mount('/content/drive', force_remount=True)"
      ],
      "execution_count": null,
      "outputs": [
        {
          "output_type": "stream",
          "text": [
            "Mounted at /content/drive\n"
          ],
          "name": "stdout"
        }
      ]
    },
    {
      "cell_type": "code",
      "metadata": {
        "id": "o_6_jy5YMebv"
      },
      "source": [
        "# Insert the directory\n",
        "import sys\n",
        "sys.path.insert(0,'/content/drive/My Drive/Colab_Notebooks/Homework/')"
      ],
      "execution_count": null,
      "outputs": []
    },
    {
      "cell_type": "code",
      "metadata": {
        "id": "AUaKqgu4D-oM"
      },
      "source": [
        "from config import server, database, port, username, password"
      ],
      "execution_count": null,
      "outputs": []
    },
    {
      "cell_type": "markdown",
      "metadata": {
        "id": "t35xMT3EZx53"
      },
      "source": [
        "## Run schema.sql on pgAdmin before running below codes"
      ]
    },
    {
      "cell_type": "code",
      "metadata": {
        "id": "qAIq_InrHUF1"
      },
      "source": [
        "# Review ID table\n",
        "review_id_df.write.mode(\"append\").format(\"jdbc\").option(\"url\", f\"jdbc:postgresql://{server}:{port}/{database}\").option(\"dbtable\", \"review_id_table\").option(\"user\", f\"{username}\").option(\"password\", f\"{password}\")\\\n",
        "           .option(\"driver\", \"org.postgresql.Driver\").save()"
      ],
      "execution_count": null,
      "outputs": []
    },
    {
      "cell_type": "code",
      "metadata": {
        "id": "8yDV5MFwEItS"
      },
      "source": [
        "# Product table\n",
        "products_df.write.mode(\"append\").format(\"jdbc\").option(\"url\", f\"jdbc:postgresql://{server}:{port}/{database}\").option(\"dbtable\", \"products\").option(\"user\", f\"{username}\").option(\"password\", f\"{password}\")\\\n",
        "           .option(\"driver\", \"org.postgresql.Driver\").save()"
      ],
      "execution_count": null,
      "outputs": []
    },
    {
      "cell_type": "code",
      "metadata": {
        "id": "sIR3tApR-3UD"
      },
      "source": [
        "# Customers table\n",
        "customers_df.write.mode(\"append\").format(\"jdbc\").option(\"url\", f\"jdbc:postgresql://{server}:{port}/{database}\").option(\"dbtable\", \"customers\").option(\"user\", f\"{username}\").option(\"password\", f\"{password}\")\\\n",
        "           .option(\"driver\", \"org.postgresql.Driver\").save()"
      ],
      "execution_count": null,
      "outputs": []
    },
    {
      "cell_type": "code",
      "metadata": {
        "id": "IX1gBlnV-3Yl"
      },
      "source": [
        "# Reviews table\n",
        "reviews_df.write.mode(\"append\").format(\"jdbc\").option(\"url\", f\"jdbc:postgresql://{server}:{port}/{database}\").option(\"dbtable\", \"reviews\").option(\"user\", f\"{username}\").option(\"password\", f\"{password}\")\\\n",
        "           .option(\"driver\", \"org.postgresql.Driver\").save()"
      ],
      "execution_count": null,
      "outputs": []
    },
    {
      "cell_type": "code",
      "metadata": {
        "id": "SgKlsBYY_KMy"
      },
      "source": [
        "# Vine table\n",
        "vine_df.write.mode(\"append\").format(\"jdbc\").option(\"url\", f\"jdbc:postgresql://{server}:{port}/{database}\").option(\"dbtable\", \"vine_table\").option(\"user\", f\"{username}\").option(\"password\", f\"{password}\")\\\n",
        "           .option(\"driver\", \"org.postgresql.Driver\").save()"
      ],
      "execution_count": null,
      "outputs": []
    },
    {
      "cell_type": "markdown",
      "metadata": {
        "id": "utZ5kDRMIb5J"
      },
      "source": [
        "# Query Test"
      ]
    },
    {
      "cell_type": "code",
      "metadata": {
        "id": "m2euYl6oGfxO"
      },
      "source": [
        "df = spark.read.jdbc(url = f\"jdbc:postgresql://{server}:{port}/{database}\", \n",
        "                     table = \"(SELECT t1.*, t2.vine \\\n",
        "                     FROM reviews AS t1 INNER JOIN vine_table AS t2 ON t1.review_id = t2.review_id) AS my_table\",\n",
        "                     properties={\"user\": f\"{username}\", \"password\": f\"{password}\", \"driver\": 'org.postgresql.Driver'})\n",
        "df.show()"
      ],
      "execution_count": null,
      "outputs": []
    },
    {
      "cell_type": "code",
      "metadata": {
        "id": "U-75ZxQRIJNW"
      },
      "source": [
        "df.count()"
      ],
      "execution_count": null,
      "outputs": []
    },
    {
      "cell_type": "code",
      "metadata": {
        "id": "bEWZHykrQv6P"
      },
      "source": [
        "df = spark.read \\\n",
        "    .format(\"jdbc\") \\\n",
        "    .option(\"url\", f\"jdbc:postgresql://{server}:{port}/{database}\") \\\n",
        "    .option(\"dbtable\", \"review_id_table\") \\\n",
        "    .option(\"user\", f\"{username}\") \\\n",
        "    .option(\"password\", f\"{password}\") \\\n",
        "    .option(\"driver\", \"org.postgresql.Driver\") \\\n",
        "    .load()\n",
        "df.printSchema()\n",
        "df.show()"
      ],
      "execution_count": null,
      "outputs": []
    }
  ]
}