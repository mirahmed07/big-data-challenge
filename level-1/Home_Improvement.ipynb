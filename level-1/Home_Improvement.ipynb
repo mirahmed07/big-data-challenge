{
  "nbformat": 4,
  "nbformat_minor": 0,
  "metadata": {
    "colab": {
      "name": "Home_Improvement.ipynb",
      "provenance": [],
      "collapsed_sections": []
    },
    "kernelspec": {
      "name": "python3",
      "display_name": "Python 3"
    },
    "language_info": {
      "name": "python"
    }
  },
  "cells": [
    {
      "cell_type": "code",
      "metadata": {
        "colab": {
          "base_uri": "https://localhost:8080/"
        },
        "id": "LJDzcukh8V3l",
        "outputId": "ea1680fb-004e-429d-a6d0-304de27693a1"
      },
      "source": [
        "import os\n",
        "# Find the latest version of spark 3.0  from http://www-us.apache.org/dist/spark/ and enter as the spark version\n",
        "# For example:\n",
        "# spark_version = 'spark-3.0.2'\n",
        "spark_version = 'spark-3.1.1'\n",
        "os.environ['SPARK_VERSION']=spark_version\n",
        "\n",
        "# Install Spark and Java\n",
        "!apt-get update\n",
        "!apt-get install openjdk-11-jdk-headless -qq > /dev/null\n",
        "!wget -q http://www-us.apache.org/dist/spark/$SPARK_VERSION/$SPARK_VERSION-bin-hadoop2.7.tgz\n",
        "!wget -q https://jdbc.postgresql.org/download/postgresql-42.2.19.jar\n",
        "!tar xf $SPARK_VERSION-bin-hadoop2.7.tgz\n",
        "!pip install -q findspark\n",
        "\n",
        "# Set Environment Variables\n",
        "os.environ[\"JAVA_HOME\"] = \"/usr/lib/jvm/java-11-openjdk-amd64\"\n",
        "os.environ[\"SPARK_HOME\"] = f\"/content/{spark_version}-bin-hadoop2.7\"\n",
        "os.environ[\"SPARK_CLASSPATH\"] = f\"/content/postgresql-42.2.19.jar\"\n",
        "\n",
        "# Start a SparkSession\n",
        "import findspark\n",
        "findspark.init()"
      ],
      "execution_count": null,
      "outputs": [
        {
          "output_type": "stream",
          "text": [
            "\r0% [Working]\r            \rGet:1 http://ppa.launchpad.net/c2d4u.team/c2d4u4.0+/ubuntu bionic InRelease [15.9 kB]\n",
            "\r0% [Waiting for headers] [Waiting for headers] [Connected to cloud.r-project.or\r                                                                               \rGet:2 http://security.ubuntu.com/ubuntu bionic-security InRelease [88.7 kB]\n",
            "\r0% [Waiting for headers] [2 InRelease 14.2 kB/88.7 kB 16%] [Connected to cloud.\r                                                                               \rHit:3 http://archive.ubuntu.com/ubuntu bionic InRelease\n",
            "\r0% [2 InRelease 88.7 kB/88.7 kB 100%] [Connected to cloud.r-project.org (13.227\r                                                                               \rGet:4 http://archive.ubuntu.com/ubuntu bionic-updates InRelease [88.7 kB]\n",
            "\r                                                                               \rHit:5 http://ppa.launchpad.net/cran/libgit2/ubuntu bionic InRelease\n",
            "\r0% [Waiting for headers] [Connected to cloud.r-project.org (13.227.223.77)] [Wa\r0% [3 InRelease gpgv 242 kB] [Waiting for headers] [Connected to cloud.r-projec\r                                                                               \rGet:6 http://archive.ubuntu.com/ubuntu bionic-backports InRelease [74.6 kB]\n",
            "Get:7 http://ppa.launchpad.net/deadsnakes/ppa/ubuntu bionic InRelease [15.9 kB]\n",
            "Hit:8 http://ppa.launchpad.net/graphics-drivers/ppa/ubuntu bionic InRelease\n",
            "Get:9 https://cloud.r-project.org/bin/linux/ubuntu bionic-cran40/ InRelease [3,626 B]\n",
            "Ign:10 https://developer.download.nvidia.com/compute/cuda/repos/ubuntu1804/x86_64  InRelease\n",
            "Ign:11 https://developer.download.nvidia.com/compute/machine-learning/repos/ubuntu1804/x86_64  InRelease\n",
            "Hit:12 https://developer.download.nvidia.com/compute/cuda/repos/ubuntu1804/x86_64  Release\n",
            "Hit:13 https://developer.download.nvidia.com/compute/machine-learning/repos/ubuntu1804/x86_64  Release\n",
            "Get:14 http://archive.ubuntu.com/ubuntu bionic-updates/main amd64 Packages [2,508 kB]\n",
            "Get:15 http://archive.ubuntu.com/ubuntu bionic-updates/universe amd64 Packages [2,175 kB]\n",
            "Get:16 http://archive.ubuntu.com/ubuntu bionic-updates/restricted amd64 Packages [402 kB]\n",
            "Get:17 http://security.ubuntu.com/ubuntu bionic-security/restricted amd64 Packages [372 kB]\n",
            "Get:18 http://security.ubuntu.com/ubuntu bionic-security/universe amd64 Packages [1,404 kB]\n",
            "Get:19 http://security.ubuntu.com/ubuntu bionic-security/main amd64 Packages [2,077 kB]\n",
            "Get:20 http://ppa.launchpad.net/c2d4u.team/c2d4u4.0+/ubuntu bionic/main Sources [1,751 kB]\n",
            "Get:21 http://ppa.launchpad.net/c2d4u.team/c2d4u4.0+/ubuntu bionic/main amd64 Packages [896 kB]\n",
            "Get:22 http://ppa.launchpad.net/deadsnakes/ppa/ubuntu bionic/main amd64 Packages [39.5 kB]\n",
            "Fetched 11.9 MB in 3s (4,167 kB/s)\n",
            "Reading package lists... Done\n"
          ],
          "name": "stdout"
        }
      ]
    },
    {
      "cell_type": "code",
      "metadata": {
        "id": "KbX-cokJ8uAn"
      },
      "source": [
        "# Start Spark session\n",
        "from pyspark.sql import SparkSession\n",
        "spark = SparkSession.builder.config(\"spark.executor.memory\", \"70g\").config(\"spark.driver.memory\", \"50g\").config(\"spark.memory.offHeap.enabled\",True).config(\"spark.memory.offHeap.size\",\"16g\").appName(\"Extract\")\\\n",
        ".config(\"spark.jars\", \"/content/postgresql-42.2.19.jar\").getOrCreate()\n",
        "# Enable Arrow-based columnar data transfers\n",
        "spark.conf.set(\"park.sqls.execution.arrow.enabled\", \"true\")\n",
        "# Increase timeout values\n",
        "spark.conf.set(\"spark.sql.broadcastTimeout\", \"1000\")\n",
        "# disable the broadcasting\n",
        "spark.conf.set(\"spark.sql.autoBroadcastJoinThreshold\", \"-1\")"
      ],
      "execution_count": null,
      "outputs": []
    },
    {
      "cell_type": "code",
      "metadata": {
        "colab": {
          "base_uri": "https://localhost:8080/"
        },
        "id": "Z0e0AWTe85oA",
        "outputId": "21d35de1-7f3c-4f05-be06-359045b6d39f"
      },
      "source": [
        "url = \"https://s3.amazonaws.com/amazon-reviews-pds/tsv/amazon_reviews_us_Home_Improvement_v1_00.tsv.gz\"\n",
        "from pyspark.sql.functions import col, lit\n",
        "from pyspark import SparkFiles\n",
        "spark.sparkContext.addFile(url)\n",
        "spark_df = spark.read.csv(SparkFiles.get(\"amazon_reviews_us_Home_Improvement_v1_00.tsv.gz\"), sep=\"\\t\", header=True)\n",
        "spark_df = spark_df.withColumn(\"review_date\",col(\"review_date\").cast(\"date\"))\n",
        "spark_df = spark_df.withColumn(\"star_rating\",col(\"star_rating\").cast(\"int\"))\n",
        "spark_df = spark_df.withColumn(\"helpful_votes\",col(\"helpful_votes\").cast(\"int\"))\n",
        "spark_df = spark_df.withColumn(\"total_votes\",col(\"total_votes\").cast(\"int\"))\n",
        "spark_df = spark_df.na.drop(\"any\")\n",
        "spark_df.show()"
      ],
      "execution_count": null,
      "outputs": [
        {
          "output_type": "stream",
          "text": [
            "+-----------+-----------+--------------+----------+--------------+--------------------+----------------+-----------+-------------+-----------+----+-----------------+--------------------+--------------------+-----------+\n",
            "|marketplace|customer_id|     review_id|product_id|product_parent|       product_title|product_category|star_rating|helpful_votes|total_votes|vine|verified_purchase|     review_headline|         review_body|review_date|\n",
            "+-----------+-----------+--------------+----------+--------------+--------------------+----------------+-----------+-------------+-----------+----+-----------------+--------------------+--------------------+-----------+\n",
            "|         US|   48881148|R215C9BDXTDQOW|B00FR4YQYK|     381800308|SadoTech Model C ...|Home Improvement|          4|            0|          0|   N|                Y|          Four Stars|        good product| 2015-08-31|\n",
            "|         US|   47882936|R1DTPUV1J57YHA|B00439MYYE|     921341748|iSpring T32M 3.2 ...|Home Improvement|          5|            0|          0|   N|                Y|Good price, quick...|Good price, quick...| 2015-08-31|\n",
            "|         US|   44435471| RFAZK5EWKJWOU|B00002N762|      56053291|Schlage F10CS V E...|Home Improvement|          5|            0|          0|   N|                Y|          Five Stars|       Excellent...!| 2015-08-31|\n",
            "|         US|   28377689|R2XT8X0O0WS1AL|B000QFCP1G|     595928517|Citri-Strip QCG73...|Home Improvement|          5|            0|          0|   N|                Y|Although *slightl...|Although *slightl...| 2015-08-31|\n",
            "|         US|   50134766|R14GRNANKO2Y2J|B00WRCRKOI|     417053744|SleekLighting Bul...|Home Improvement|          5|            0|          0|   N|                Y|      Great Adapters|These adapters ar...| 2015-08-31|\n",
            "|         US|   14066511|R2BLF9VYL24LCQ|B00NIH88EW|     275395071|VDOMUS&reg;Exquis...|Home Improvement|          5|            1|          1|   N|                Y|                nice|awesome and great...| 2015-08-31|\n",
            "|         US|   15211046|R1GI9UW5KJ671O|B005B9CI96|     856617815|Frigidaire 316075...|Home Improvement|          5|            0|          0|   N|                Y|          Five Stars|Perfect. Exactly ...| 2015-08-31|\n",
            "|         US|   14862498|R2H5CEJN863M86|B008L0OMWI|     125102494|Anyray® 5-Bulbs 7...|Home Improvement|          5|            0|          1|   N|                Y|So far working gr...|So far working gr...| 2015-08-31|\n",
            "|         US|   23617292| R5PPDHFOZ3SMU|B00P9FTC6O|     523110842|Cambridge 100 pcs...|Home Improvement|          5|            0|          0|   N|                Y|           Ties tie.|Not much to say a...| 2015-08-31|\n",
            "|         US|   35820485| RE1L9IENKJJ7Y|B00K6BQEHQ|     797306964|EUBUY Silver Tone...|Home Improvement|          1|            0|          0|   N|                Y|             GARBAGE|       crap quality.| 2015-08-31|\n",
            "|         US|   47162350|R3CZ0990QC2Z0H|B008BYQCWM|     865874404|Legend 809125 Leg...|Home Improvement|          5|            0|          0|   N|                Y|          Five Stars|  Good. As expected.| 2015-08-31|\n",
            "|         US|   31884789|R3UMMD2IO29QSP|B003BLHTOU|     183592595|Forearm Forklift ...|Home Improvement|          5|            0|          0|   N|                Y|           It works!|My husband and I ...| 2015-08-31|\n",
            "|         US|   43835770| R541LE5J3OJH2|B0065I114K|     185006358|Newer Technology ...|Home Improvement|          5|            0|          0|   N|                Y|          Five Stars|     works perfectly| 2015-08-31|\n",
            "|         US|   26212294|R10KD9FIE6Y1AS|B00J9XB6BQ|      53423207|Rok Hardware 25 P...|Home Improvement|          5|            0|          0|   N|                Y|Banging cabinet d...|Banging cabinet d...| 2015-08-31|\n",
            "|         US|   17876704|R1YT5YG0QG5DCG|B00K36NJ0E|     593464633|Drift Light Using...|Home Improvement|          5|            0|          0|   N|                Y|Great product for...|Great product for...| 2015-08-31|\n",
            "|         US|   22813225|R207LXJWL40V1S|B000ZIEOHW|     833911812|Troy DPH11 Profes...|Home Improvement|          4|            0|          0|   N|                Y|GETTING THE JOB D...|Drywalling our 18...| 2015-08-31|\n",
            "|         US|   25448576| RIDP0ZD7WT9DE|B0009YDHKC|     852173443|Wright Products V...|Home Improvement|          5|            0|          0|   N|                Y|          Five Stars|exact replacement...| 2015-08-31|\n",
            "|         US|   19754503|R2XJSNZ9219U1Z|B00LBGVLS2|     929968058|LiftMaster Garage...|Home Improvement|          5|            0|          0|   N|                Y|Easy to program g...|Works as advertis...| 2015-08-31|\n",
            "|         US|   17767084|R2M9F1FVVDOGFL|B00002N5DY|     830214712|Heath Zenith SL-5...|Home Improvement|          5|            0|          0|   N|                Y|     easy to install|Working well the ...| 2015-08-31|\n",
            "|         US|   48001709|R1QTOSE2BHU2LJ|B000BQOX88|     498022954|Intermatic T101 2...|Home Improvement|          3|            1|          2|   N|                Y|Kind of disappoin...|I connected the r...| 2015-08-31|\n",
            "+-----------+-----------+--------------+----------+--------------+--------------------+----------------+-----------+-------------+-----------+----+-----------------+--------------------+--------------------+-----------+\n",
            "only showing top 20 rows\n",
            "\n"
          ],
          "name": "stdout"
        }
      ]
    },
    {
      "cell_type": "code",
      "metadata": {
        "colab": {
          "base_uri": "https://localhost:8080/"
        },
        "id": "4TPlG3Gldwg5",
        "outputId": "6eb5e7a5-50a4-4f17-851f-4ddf2d9d4775"
      },
      "source": [
        "spark_df.select('product_category').distinct().show()"
      ],
      "execution_count": null,
      "outputs": [
        {
          "output_type": "stream",
          "text": [
            "+----------------+\n",
            "|product_category|\n",
            "+----------------+\n",
            "|Home Improvement|\n",
            "+----------------+\n",
            "\n"
          ],
          "name": "stdout"
        }
      ]
    },
    {
      "cell_type": "code",
      "metadata": {
        "colab": {
          "base_uri": "https://localhost:8080/"
        },
        "id": "6ujAXC89dTyL",
        "outputId": "6b463095-e53a-4220-d11a-3e5c2f067531"
      },
      "source": [
        "spark_df.printSchema()"
      ],
      "execution_count": null,
      "outputs": [
        {
          "output_type": "stream",
          "text": [
            "root\n",
            " |-- marketplace: string (nullable = true)\n",
            " |-- customer_id: string (nullable = true)\n",
            " |-- review_id: string (nullable = true)\n",
            " |-- product_id: string (nullable = true)\n",
            " |-- product_parent: string (nullable = true)\n",
            " |-- product_title: string (nullable = true)\n",
            " |-- product_category: string (nullable = true)\n",
            " |-- star_rating: integer (nullable = true)\n",
            " |-- helpful_votes: integer (nullable = true)\n",
            " |-- total_votes: integer (nullable = true)\n",
            " |-- vine: string (nullable = true)\n",
            " |-- verified_purchase: string (nullable = true)\n",
            " |-- review_headline: string (nullable = true)\n",
            " |-- review_body: string (nullable = true)\n",
            " |-- review_date: date (nullable = true)\n",
            "\n"
          ],
          "name": "stdout"
        }
      ]
    },
    {
      "cell_type": "code",
      "metadata": {
        "colab": {
          "base_uri": "https://localhost:8080/"
        },
        "id": "X5OPZFgY85xv",
        "outputId": "f91d89f0-a03a-44ef-bb33-cd87ca8ace92"
      },
      "source": [
        "# Outputting the number of rows\n",
        "spark_df.count()"
      ],
      "execution_count": null,
      "outputs": [
        {
          "output_type": "execute_result",
          "data": {
            "text/plain": [
              "2634255"
            ]
          },
          "metadata": {
            "tags": []
          },
          "execution_count": 7
        }
      ]
    },
    {
      "cell_type": "code",
      "metadata": {
        "colab": {
          "base_uri": "https://localhost:8080/"
        },
        "id": "SWeMRblC85z9",
        "outputId": "c432f32e-171a-4a95-dce1-b1fae4b61917"
      },
      "source": [
        "# Removed duplicate rows\n",
        "spark_df = spark_df.dropDuplicates()\n",
        "spark_df.count()"
      ],
      "execution_count": null,
      "outputs": [
        {
          "output_type": "execute_result",
          "data": {
            "text/plain": [
              "2634255"
            ]
          },
          "metadata": {
            "tags": []
          },
          "execution_count": 8
        }
      ]
    },
    {
      "cell_type": "markdown",
      "metadata": {
        "id": "4hIWAEID-H8q"
      },
      "source": [
        "# Transform dataframes to fit the schema "
      ]
    },
    {
      "cell_type": "code",
      "metadata": {
        "colab": {
          "base_uri": "https://localhost:8080/"
        },
        "id": "7bqPoQUW9bmK",
        "outputId": "cddc0e6c-6d7a-4e4f-90ad-4d2a576a9f6e"
      },
      "source": [
        "# Keep and rename necessary columns for Review ID table\n",
        "review_id_df = spark_df.select([\"review_id\", \"customer_id\", \"product_id\", \"product_parent\", \"review_date\"])\n",
        "review_id_df = review_id_df.withColumn('batch_id',lit(1))\n",
        "review_id_df.show()"
      ],
      "execution_count": null,
      "outputs": [
        {
          "output_type": "stream",
          "text": [
            "+--------------+-----------+----------+--------------+-----------+--------+\n",
            "|     review_id|customer_id|product_id|product_parent|review_date|batch_id|\n",
            "+--------------+-----------+----------+--------------+-----------+--------+\n",
            "|R215C9BDXTDQOW|   48881148|B00FR4YQYK|     381800308| 2015-08-31|       1|\n",
            "|R1DTPUV1J57YHA|   47882936|B00439MYYE|     921341748| 2015-08-31|       1|\n",
            "| RFAZK5EWKJWOU|   44435471|B00002N762|      56053291| 2015-08-31|       1|\n",
            "|R2XT8X0O0WS1AL|   28377689|B000QFCP1G|     595928517| 2015-08-31|       1|\n",
            "|R14GRNANKO2Y2J|   50134766|B00WRCRKOI|     417053744| 2015-08-31|       1|\n",
            "|R2BLF9VYL24LCQ|   14066511|B00NIH88EW|     275395071| 2015-08-31|       1|\n",
            "|R1GI9UW5KJ671O|   15211046|B005B9CI96|     856617815| 2015-08-31|       1|\n",
            "|R2H5CEJN863M86|   14862498|B008L0OMWI|     125102494| 2015-08-31|       1|\n",
            "| R5PPDHFOZ3SMU|   23617292|B00P9FTC6O|     523110842| 2015-08-31|       1|\n",
            "| RE1L9IENKJJ7Y|   35820485|B00K6BQEHQ|     797306964| 2015-08-31|       1|\n",
            "|R3CZ0990QC2Z0H|   47162350|B008BYQCWM|     865874404| 2015-08-31|       1|\n",
            "|R3UMMD2IO29QSP|   31884789|B003BLHTOU|     183592595| 2015-08-31|       1|\n",
            "| R541LE5J3OJH2|   43835770|B0065I114K|     185006358| 2015-08-31|       1|\n",
            "|R10KD9FIE6Y1AS|   26212294|B00J9XB6BQ|      53423207| 2015-08-31|       1|\n",
            "|R1YT5YG0QG5DCG|   17876704|B00K36NJ0E|     593464633| 2015-08-31|       1|\n",
            "|R207LXJWL40V1S|   22813225|B000ZIEOHW|     833911812| 2015-08-31|       1|\n",
            "| RIDP0ZD7WT9DE|   25448576|B0009YDHKC|     852173443| 2015-08-31|       1|\n",
            "|R2XJSNZ9219U1Z|   19754503|B00LBGVLS2|     929968058| 2015-08-31|       1|\n",
            "|R2M9F1FVVDOGFL|   17767084|B00002N5DY|     830214712| 2015-08-31|       1|\n",
            "|R1QTOSE2BHU2LJ|   48001709|B000BQOX88|     498022954| 2015-08-31|       1|\n",
            "+--------------+-----------+----------+--------------+-----------+--------+\n",
            "only showing top 20 rows\n",
            "\n"
          ],
          "name": "stdout"
        }
      ]
    },
    {
      "cell_type": "code",
      "metadata": {
        "colab": {
          "base_uri": "https://localhost:8080/"
        },
        "id": "Oaaoxdgu9bov",
        "outputId": "2fd3d1b8-514b-4dc2-e820-454c073a0221"
      },
      "source": [
        "# For Products table\n",
        "products_df = spark_df.select([\"product_id\", \"product_title\", \"product_category\"])\n",
        "products_df = products_df.dropDuplicates([\"product_id\"])\n",
        "products_df = products_df.dropDuplicates()\n",
        "products_df = products_df.withColumn('batch_id',lit(1))\n",
        "products_df.show(truncate= False)"
      ],
      "execution_count": null,
      "outputs": [
        {
          "output_type": "stream",
          "text": [
            "+----------+----------------------------------------------------------------------------------------+----------------+--------+\n",
            "|product_id|product_title                                                                           |product_category|batch_id|\n",
            "+----------+----------------------------------------------------------------------------------------+----------------+--------+\n",
            "|7800807606|CBconcept Brand Halogen Light Bulb Jc G4 6volt 5watt - 10 Bulbs                         |Home Improvement|1       |\n",
            "|9178907519|IKEA - GAVIK Table lamp, purple, frosted glass                                          |Home Improvement|1       |\n",
            "|B00002N70K|Kwikset 293 Small Round Escutcheon Plate,                                               |Home Improvement|1       |\n",
            "|B00002N7BC|Westinghouse 6720800 One-Light Flush-Mount Interior Ceiling Fixture with Pull Chain     |Home Improvement|1       |\n",
            "|B00002NAEP|Westinghouse One-Light Exterior Wall Lantern                                            |Home Improvement|1       |\n",
            "|B00002NAVH|Leviton L02-49686-00W 6 Outlet Adapter Grounded White                                   |Home Improvement|1       |\n",
            "|B00002NB2F|View-Pak UBIP2020 20-Amp Pushtype Dual Circ Breaker                                     |Home Improvement|1       |\n",
            "|B00004SQLR|Master Lock 1547DCM Combination Backpack Padlock, Black                                 |Home Improvement|1       |\n",
            "|B00004WLKJ|Gardner Bender Heavy-Duty Rocker Switch                                                 |Home Improvement|1       |\n",
            "|B00004Y61P|Towing/Recovery Strap                                                                   |Home Improvement|1       |\n",
            "|B00004YUN1|Leviton 6697-W Anywhere Switch/Plug-In RF Remote Decora Rocker Single-Pole Switch, White|Home Improvement|1       |\n",
            "|B00004Z4AV|3M 4.875 by 2.875 by 1 Inch Sanding Sponge Single Angle                                 |Home Improvement|1       |\n",
            "|B0000AHSA7|Pollenex DP1011 Hand Held Twin Chrome Showerhead                                        |Home Improvement|1       |\n",
            "|B0000BYEF5|CONROS #PM00506 6PK 5LB Giant Firelog                                                   |Home Improvement|1       |\n",
            "|B0000BYEF6|Lutron Electronics Plug-In Lamp Dimmer                                                  |Home Improvement|1       |\n",
            "|B0000CEZ7C|Northern Industrial 450-Lb. Capacity 10in. Pneumatic Caster-Swivel                      |Home Improvement|1       |\n",
            "|B0000DBIKH|Brita 42633 Faucet Filtration System, Black/Chrome                                      |Home Improvement|1       |\n",
            "|B0000DD0F2|Shop-Vac 905-03-00 2-1/2-Inch x 8-Foot Vacuum Hose                                      |Home Improvement|1       |\n",
            "|B0000DEZNE|Dale Adams Enterprises The Bone-ster 4031 Mechanics Creeper                             |Home Improvement|1       |\n",
            "|B0000DI5II|GE 75 Watt 2 Pack Long Life Light Bulbs                                                 |Home Improvement|1       |\n",
            "+----------+----------------------------------------------------------------------------------------+----------------+--------+\n",
            "only showing top 20 rows\n",
            "\n"
          ],
          "name": "stdout"
        }
      ]
    },
    {
      "cell_type": "code",
      "metadata": {
        "colab": {
          "base_uri": "https://localhost:8080/"
        },
        "id": "KUSfRJun9brG",
        "outputId": "764dacef-2487-4a0e-d1d9-e2a472ad5b1e"
      },
      "source": [
        "# For Customers table\n",
        "customers_df = spark_df.groupby(\"customer_id\").agg({\n",
        "    \"customer_id\": \"count\"\n",
        "    }).withColumnRenamed(\"count(customer_id)\", \"customer_count\")\n",
        "customers_df = customers_df.withColumn('batch_id',lit(1))\n",
        "customers_df.show()"
      ],
      "execution_count": null,
      "outputs": [
        {
          "output_type": "stream",
          "text": [
            "+-----------+--------------+--------+\n",
            "|customer_id|customer_count|batch_id|\n",
            "+-----------+--------------+--------+\n",
            "|   10145717|             1|       1|\n",
            "|   30238476|             1|       1|\n",
            "|     856598|             1|       1|\n",
            "|   45046643|             3|       1|\n",
            "|   36775983|            14|       1|\n",
            "|   10245571|            16|       1|\n",
            "|   23089404|             1|       1|\n",
            "|   13114084|             4|       1|\n",
            "|   25415089|             6|       1|\n",
            "|   51970980|             1|       1|\n",
            "|   38676202|             1|       1|\n",
            "|   47118816|             1|       1|\n",
            "|   14286306|             4|       1|\n",
            "|   31389365|             1|       1|\n",
            "|   52113137|             1|       1|\n",
            "|   32841016|             1|       1|\n",
            "|   28292593|             1|       1|\n",
            "|   51105439|             1|       1|\n",
            "|   41681532|             1|       1|\n",
            "|   35665618|             5|       1|\n",
            "+-----------+--------------+--------+\n",
            "only showing top 20 rows\n",
            "\n"
          ],
          "name": "stdout"
        }
      ]
    },
    {
      "cell_type": "code",
      "metadata": {
        "colab": {
          "base_uri": "https://localhost:8080/"
        },
        "id": "G2AN6mnN9btR",
        "outputId": "e4d9a556-c0bf-467f-bcf6-d2b6f5cd60f5"
      },
      "source": [
        "# For Review table\n",
        "reviews_df = spark_df.select([\"review_id\", \"verified_purchase\", \"review_headline\", \"review_body\"])\n",
        "reviews_df = reviews_df.dropDuplicates()\n",
        "reviews_df = reviews_df.withColumn('batch_id',lit(1))\n",
        "reviews_df.show()"
      ],
      "execution_count": null,
      "outputs": [
        {
          "output_type": "stream",
          "text": [
            "+--------------+-----------------+--------------------+--------------------+--------+\n",
            "|     review_id|verified_purchase|     review_headline|         review_body|batch_id|\n",
            "+--------------+-----------------+--------------------+--------------------+--------+\n",
            "|R2H85HQ4J3OVWF|                Y| Quick, Easy, Sturdy|The lid to my las...|       1|\n",
            "|R28XCA0KI7GT15|                Y|          Five Stars|fixed my dishwash...|       1|\n",
            "|R1DQV59X4D3D8F|                Y|          Five Stars|Came in super fas...|       1|\n",
            "|R1O1G3ST0LH6N6|                Y|          Five Stars|So far so good. I...|       1|\n",
            "|R14VV3JZD8S87J|                Y|               Works|Gets the bad ring...|       1|\n",
            "|R1C66XDVVGUWIR|                Y|             Ok Lock|Cant rate them 5 ...|       1|\n",
            "|R2G3B2Q8R62M14|                Y|          Good value|I like the string...|       1|\n",
            "|R1OKTANJ7L6GV4|                Y|High quality, bright|There are some ch...|       1|\n",
            "| RV5B9J07DPZ1I|                Y|          Four Stars|       Great buy !!!|       1|\n",
            "|R3MG5O3FVYQD1Q|                Y|          Five Stars|Great product it ...|       1|\n",
            "|R1JD431SMCVB45|                Y|          Five Stars|great love it tha...|       1|\n",
            "|R3GM5CDRGHN04B|                Y|          Five Stars|Excellent deal wi...|       1|\n",
            "|R13MNMCERVLN2O|                Y|Looked Good and I...|Cafe doors arrive...|       1|\n",
            "| RPE2KJNZS3N3L|                Y|          Five Stars|beautiful, receiv...|       1|\n",
            "| RMQJ166X0SL1A|                Y|          Five Stars|Great cord at a g...|       1|\n",
            "|R2PBVY25Z6PSHF|                Y|          Five Stars|Perfect for what ...|       1|\n",
            "|R3LQHEJZOK6APC|                Y|High Quality Product|This is a high qu...|       1|\n",
            "|R2AM846DE0YVZ8|                Y|      Good when new.|These trac drive ...|       1|\n",
            "|R2KNPD2ONXK9G5|                Y|Instructions were...|This screen works...|       1|\n",
            "| RC5NSTURVA6G3|                Y|          Five Stars|        good quality|       1|\n",
            "+--------------+-----------------+--------------------+--------------------+--------+\n",
            "only showing top 20 rows\n",
            "\n"
          ],
          "name": "stdout"
        }
      ]
    },
    {
      "cell_type": "code",
      "metadata": {
        "colab": {
          "base_uri": "https://localhost:8080/"
        },
        "id": "v6sT-juS852f",
        "outputId": "18299895-886f-4963-8399-2f4035fa63ce"
      },
      "source": [
        "# For Vine table\n",
        "vine_df = spark_df.select([\"review_id\", \"star_rating\", \"helpful_votes\", \"total_votes\", \"vine\"])\n",
        "vine_df = vine_df.withColumn('batch_id',lit(1))\n",
        "vine_df.show()"
      ],
      "execution_count": null,
      "outputs": [
        {
          "output_type": "stream",
          "text": [
            "+--------------+-----------+-------------+-----------+----+--------+\n",
            "|     review_id|star_rating|helpful_votes|total_votes|vine|batch_id|\n",
            "+--------------+-----------+-------------+-----------+----+--------+\n",
            "|R215C9BDXTDQOW|          4|            0|          0|   N|       1|\n",
            "|R1DTPUV1J57YHA|          5|            0|          0|   N|       1|\n",
            "| RFAZK5EWKJWOU|          5|            0|          0|   N|       1|\n",
            "|R2XT8X0O0WS1AL|          5|            0|          0|   N|       1|\n",
            "|R14GRNANKO2Y2J|          5|            0|          0|   N|       1|\n",
            "|R2BLF9VYL24LCQ|          5|            1|          1|   N|       1|\n",
            "|R1GI9UW5KJ671O|          5|            0|          0|   N|       1|\n",
            "|R2H5CEJN863M86|          5|            0|          1|   N|       1|\n",
            "| R5PPDHFOZ3SMU|          5|            0|          0|   N|       1|\n",
            "| RE1L9IENKJJ7Y|          1|            0|          0|   N|       1|\n",
            "|R3CZ0990QC2Z0H|          5|            0|          0|   N|       1|\n",
            "|R3UMMD2IO29QSP|          5|            0|          0|   N|       1|\n",
            "| R541LE5J3OJH2|          5|            0|          0|   N|       1|\n",
            "|R10KD9FIE6Y1AS|          5|            0|          0|   N|       1|\n",
            "|R1YT5YG0QG5DCG|          5|            0|          0|   N|       1|\n",
            "|R207LXJWL40V1S|          4|            0|          0|   N|       1|\n",
            "| RIDP0ZD7WT9DE|          5|            0|          0|   N|       1|\n",
            "|R2XJSNZ9219U1Z|          5|            0|          0|   N|       1|\n",
            "|R2M9F1FVVDOGFL|          5|            0|          0|   N|       1|\n",
            "|R1QTOSE2BHU2LJ|          3|            1|          2|   N|       1|\n",
            "+--------------+-----------+-------------+-----------+----+--------+\n",
            "only showing top 20 rows\n",
            "\n"
          ],
          "name": "stdout"
        }
      ]
    },
    {
      "cell_type": "markdown",
      "metadata": {
        "id": "n6PzFzGU-WUe"
      },
      "source": [
        "# Load data to AWS RDS"
      ]
    },
    {
      "cell_type": "code",
      "metadata": {
        "id": "D6W3Z1T4854Z",
        "colab": {
          "base_uri": "https://localhost:8080/"
        },
        "outputId": "08980424-c333-4562-d57f-7ba25bf4cf1f"
      },
      "source": [
        "from google.colab import drive\n",
        "drive.mount('/content/drive', force_remount=True)"
      ],
      "execution_count": null,
      "outputs": [
        {
          "output_type": "stream",
          "text": [
            "Mounted at /content/drive\n"
          ],
          "name": "stdout"
        }
      ]
    },
    {
      "cell_type": "code",
      "metadata": {
        "id": "zSM8eI0cLV93"
      },
      "source": [
        "# Insert the directory\n",
        "import sys\n",
        "sys.path.insert(0,'/content/drive/My Drive/Colab_Notebooks/Homework/')"
      ],
      "execution_count": null,
      "outputs": []
    },
    {
      "cell_type": "code",
      "metadata": {
        "id": "0l7BErwRLWEU"
      },
      "source": [
        "from config import server, database, port, username, password"
      ],
      "execution_count": null,
      "outputs": []
    },
    {
      "cell_type": "code",
      "metadata": {
        "id": "GdciXgTT-rdR"
      },
      "source": [
        "# Review ID table\n",
        "review_id_df.write.mode(\"append\").format(\"jdbc\").option(\"url\", f\"jdbc:postgresql://{server}:{port}/{database}\").option(\"dbtable\", \"review_id_table\").option(\"user\", f\"{username}\").option(\"password\", f\"{password}\")\\\n",
        "           .option(\"driver\", \"org.postgresql.Driver\").save()"
      ],
      "execution_count": null,
      "outputs": []
    },
    {
      "cell_type": "code",
      "metadata": {
        "id": "tuMZb1-c-rwi"
      },
      "source": [
        "# Product table\n",
        "products_df.write.mode(\"append\").mode(\"append\").format(\"jdbc\").option(\"url\", f\"jdbc:postgresql://{server}:{port}/{database}\").option(\"dbtable\", \"products\").option(\"user\", f\"{username}\").option(\"password\", f\"{password}\")\\\n",
        "           .option(\"driver\", \"org.postgresql.Driver\").save()"
      ],
      "execution_count": null,
      "outputs": []
    },
    {
      "cell_type": "code",
      "metadata": {
        "id": "sIR3tApR-3UD"
      },
      "source": [
        "# Customers table\n",
        "customers_df.write.mode(\"append\").format(\"jdbc\").option(\"url\", f\"jdbc:postgresql://{server}:{port}/{database}\").option(\"dbtable\", \"customers\").option(\"user\", f\"{username}\").option(\"password\", f\"{password}\")\\\n",
        "           .option(\"driver\", \"org.postgresql.Driver\").save()"
      ],
      "execution_count": null,
      "outputs": []
    },
    {
      "cell_type": "code",
      "metadata": {
        "id": "IX1gBlnV-3Yl"
      },
      "source": [
        "# Reviews table\n",
        "reviews_df.write.mode(\"append\").format(\"jdbc\").option(\"url\", f\"jdbc:postgresql://{server}:{port}/{database}\").option(\"dbtable\", \"reviews\").option(\"user\", f\"{username}\").option(\"password\", f\"{password}\")\\\n",
        "           .option(\"driver\", \"org.postgresql.Driver\").save()"
      ],
      "execution_count": null,
      "outputs": []
    },
    {
      "cell_type": "code",
      "metadata": {
        "id": "SgKlsBYY_KMy"
      },
      "source": [
        "# Vine table\n",
        "vine_df.write.mode(\"append\").format(\"jdbc\").option(\"url\", f\"jdbc:postgresql://{server}:{port}/{database}\").option(\"dbtable\", \"vine_table\").option(\"user\", f\"{username}\").option(\"password\", f\"{password}\")\\\n",
        "           .option(\"driver\", \"org.postgresql.Driver\").save()"
      ],
      "execution_count": null,
      "outputs": []
    },
    {
      "cell_type": "markdown",
      "metadata": {
        "id": "VnKPYKdKLl9a"
      },
      "source": [
        "# Query Test"
      ]
    },
    {
      "cell_type": "code",
      "metadata": {
        "id": "OlD-njhz_KPM"
      },
      "source": [
        "df = spark.read.jdbc(url = f\"jdbc:postgresql://{server}:{port}/{database}\", \n",
        "                     table = \"(SELECT t1.*, t2.vine \\\n",
        "                     FROM reviews AS t1 INNER JOIN vine_table AS t2 ON t1.review_id = t2.review_id) AS my_table\",\n",
        "                     properties={\"user\": f\"{username}\", \"password\": f\"{password}\", \"driver\": 'org.postgresql.Driver'})\n",
        "df.show()"
      ],
      "execution_count": null,
      "outputs": []
    }
  ]
}